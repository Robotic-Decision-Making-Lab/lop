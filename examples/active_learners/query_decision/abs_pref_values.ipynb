{
 "cells": [
  {
   "cell_type": "code",
   "execution_count": 1,
   "id": "60bdd2f0",
   "metadata": {},
   "outputs": [],
   "source": [
    "import numpy as np\n",
    "import matplotlib.pyplot as plt"
   ]
  },
  {
   "cell_type": "code",
   "execution_count": 75,
   "id": "076d21de",
   "metadata": {},
   "outputs": [
    {
     "name": "stdout",
     "output_type": "stream",
     "text": [
      "(p_abs, env, trainitr, run)\n",
      "(5, 10, 10, 20)\n"
     ]
    }
   ],
   "source": [
    "data = np.load('result_p_abs_stable.npz')\n",
    "\n",
    "colors = ['#000000', '#F0E442', '#CC79A7', '#D55E00', '#56B4E9', '#0072B2','#E69F00']\n",
    "\n",
    "rate_scores = data['rate_scores']\n",
    "pref_scores = data['pref_scores']\n",
    "\n",
    "print('(p_abs, env, trainitr, run)')\n",
    "print(rate_scores.shape)"
   ]
  },
  {
   "cell_type": "code",
   "execution_count": 76,
   "id": "efb99712",
   "metadata": {},
   "outputs": [],
   "source": [
    "alpha = 0.4999\n",
    "val_set = [0,1,2,3,4,5,6,7,8,9]\n",
    "#test_set = [6,7,8,9]\n",
    "\n",
    "\n",
    "selector = (alpha * rate_scores[:,val_set,:,:]) < ((1 - alpha) * pref_scores[:,val_set,:,:])\n",
    "\n",
    "avg = np.mean(selector, axis=(1,2,3))\n",
    "\n",
    "TPR = avg[4]\n",
    "FPR = avg[0]"
   ]
  },
  {
   "cell_type": "code",
   "execution_count": 77,
   "id": "3e448e7a",
   "metadata": {},
   "outputs": [
    {
     "name": "stdout",
     "output_type": "stream",
     "text": [
      "[0.00603945 0.11838798 0.06481311 0.04122609 0.01620323 0.1320125\n",
      " 0.00036676 0.16596387 0.00483021 0.0495471  0.06450705 0.17054832\n",
      " 0.00650932 0.14651464 0.02049407 0.05678889 0.00059333 0.05417669\n",
      " 0.08615072 0.09488956]\n",
      "[0.04792679 0.08047209 0.04777559 0.04826648 0.11543052 0.08199191\n",
      " 0.04903663 0.10190685 0.0492521  0.05044666 0.02183905 0.10611937\n",
      " 0.04247525 0.07149598 0.01848223 0.06587833 0.04593313 0.05032464\n",
      " 0.06018567 0.05748336]\n"
     ]
    }
   ],
   "source": [
    "print(rate_scores[0,0,0,:])\n",
    "print(pref_scores[0,0,0,:])"
   ]
  },
  {
   "cell_type": "code",
   "execution_count": 85,
   "id": "1b3a0160",
   "metadata": {},
   "outputs": [
    {
     "data": {
      "text/plain": [
       "Text(0, 0.5, 'True Positive Rate')"
      ]
     },
     "execution_count": 85,
     "metadata": {},
     "output_type": "execute_result"
    },
    {
     "data": {
      "image/png": "[encoded data removed]",
      "text/plain": [
       "<Figure size 432x288 with 1 Axes>"
      ]
     },
     "metadata": {
      "needs_background": "light"
     },
     "output_type": "display_data"
    }
   ],
   "source": [
    "val_set = [0,1,2,3,4,5,6,7,8,9]\n",
    "train_itr = 1\n",
    "\n",
    "alphas = np.arange(0.0, 1.0, 0.001)\n",
    "\n",
    "TPR = []\n",
    "FPR = []\n",
    "for alpha in alphas:\n",
    "    selector = (alpha * rate_scores[:,val_set,train_itr,:]) > ((1 - alpha) * pref_scores[:,val_set,train_itr,:])\n",
    "\n",
    "    avg = np.mean(selector, axis=(1,2))\n",
    "\n",
    "    TPR += [np.mean(avg[3:5])]\n",
    "    FPR += [np.mean(avg[0:2])]\n",
    "    \n",
    "plt.plot(FPR, TPR)\n",
    "plt.plot([0,1], [0,1])\n",
    "plt.xlabel('False Positive Rate')\n",
    "plt.ylabel('True Positive Rate')"
   ]
  },
  {
   "cell_type": "code",
   "execution_count": null,
   "id": "cf96d27e",
   "metadata": {},
   "outputs": [],
   "source": []
  },
  {
   "cell_type": "code",
   "execution_count": null,
   "id": "45758740",
   "metadata": {},
   "outputs": [],
   "source": []
  }
 ],
 "metadata": {
  "kernelspec": {
   "display_name": "Python 3 (ipykernel)",
   "language": "python",
   "name": "python3"
  },
  "language_info": {
   "codemirror_mode": {
    "name": "ipython",
    "version": 3
   },
   "file_extension": ".py",
   "mimetype": "text/x-python",
   "name": "python",
   "nbconvert_exporter": "python",
   "pygments_lexer": "ipython3",
   "version": "3.10.12"
  }
 },
 "nbformat": 4,
 "nbformat_minor": 5
}
