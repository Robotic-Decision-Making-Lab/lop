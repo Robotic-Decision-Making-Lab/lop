{
 "cells": [
  {
   "cell_type": "code",
   "execution_count": 1,
   "id": "4aee218c",
   "metadata": {},
   "outputs": [],
   "source": [
    "import numpy as np\n",
    "import matplotlib.pyplot as plt"
   ]
  },
  {
   "cell_type": "code",
   "execution_count": 4,
   "id": "ab08ab59",
   "metadata": {},
   "outputs": [],
   "source": [
    "data = np.load('result_p_abs_all.npz')"
   ]
  },
  {
   "cell_type": "code",
   "execution_count": 7,
   "id": "5d85fa64",
   "metadata": {},
   "outputs": [
    {
     "data": {
      "text/plain": [
       "array([0.3915, 0.3935, 0.3305, 0.2975, 0.284 ])"
      ]
     },
     "execution_count": 7,
     "metadata": {},
     "output_type": "execute_result"
    }
   ],
   "source": [
    "pref_pct = data['pref_pct']\n",
    "\n",
    "np.mean(pref_pct, axis=(1,2))"
   ]
  },
  {
   "cell_type": "code",
   "execution_count": 9,
   "id": "6805e770",
   "metadata": {},
   "outputs": [
    {
     "data": {
      "text/plain": [
       "array([[0.48 , 0.395, 0.38 , 0.34 , 0.385, 0.345, 0.36 , 0.425, 0.415,\n",
       "        0.39 ],\n",
       "       [0.445, 0.385, 0.385, 0.33 , 0.37 , 0.39 , 0.39 , 0.39 , 0.45 ,\n",
       "        0.4  ],\n",
       "       [0.485, 0.385, 0.285, 0.285, 0.235, 0.29 , 0.295, 0.315, 0.37 ,\n",
       "        0.36 ],\n",
       "       [0.385, 0.33 , 0.27 , 0.255, 0.31 , 0.255, 0.31 , 0.275, 0.285,\n",
       "        0.3  ],\n",
       "       [0.35 , 0.31 , 0.28 , 0.23 , 0.26 , 0.225, 0.26 , 0.325, 0.275,\n",
       "        0.325]])"
      ]
     },
     "execution_count": 9,
     "metadata": {},
     "output_type": "execute_result"
    }
   ],
   "source": [
    "np.mean(pref_pct, axis=1)"
   ]
  },
  {
   "cell_type": "code",
   "execution_count": null,
   "id": "4baf8713",
   "metadata": {},
   "outputs": [],
   "source": []
  }
 ],
 "metadata": {
  "kernelspec": {
   "display_name": "Python 3 (ipykernel)",
   "language": "python",
   "name": "python3"
  },
  "language_info": {
   "codemirror_mode": {
    "name": "ipython",
    "version": 3
   },
   "file_extension": ".py",
   "mimetype": "text/x-python",
   "name": "python",
   "nbconvert_exporter": "python",
   "pygments_lexer": "ipython3",
   "version": "3.10.12"
  }
 },
 "nbformat": 4,
 "nbformat_minor": 5
}
