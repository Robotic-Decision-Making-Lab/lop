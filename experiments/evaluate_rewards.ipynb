{
 "cells": [
  {
   "cell_type": "code",
   "execution_count": 1,
   "id": "ed6354eb",
   "metadata": {},
   "outputs": [],
   "source": [
    "import numpy as np\n",
    "import pickle"
   ]
  },
  {
   "cell_type": "code",
   "execution_count": 2,
   "id": "16be5a3f",
   "metadata": {},
   "outputs": [
    {
     "name": "stdout",
     "output_type": "stream",
     "text": [
      "10\n"
     ]
    }
   ],
   "source": [
    "with open('../../other_repos/ice-soil-planner/scripts/plan_saving/rewards_ice_soil.pickle', 'rb') as fh:\n",
    "    data = pickle.load(fh)\n",
    "    \n",
    "print(len(data['eval'][0]))"
   ]
  },
  {
   "cell_type": "code",
   "execution_count": 3,
   "id": "9dcfea3e",
   "metadata": {},
   "outputs": [
    {
     "name": "stdout",
     "output_type": "stream",
     "text": [
      "444\n",
      "[0.0, 0.0, 0.0, 0.0, 0.0, 0.0, 0.0, 0.0, 0.0, 0.0]\n",
      "\n",
      "\n",
      "[2.0696493306184296, 1.980367459656966, 1.9134934816023605, 2.0, 2.0620938410783323, 1.9613892420745782, 1.9459805395856606, 1.9602286654813785, 1.9816427108970776, 1.930977537309261]\n",
      "\n",
      "\n",
      "[1.26378014 0.80948571 0.68478255 0.95787342 0.33950856]\n",
      "\n",
      "\n",
      "\n",
      "0:\n",
      "241\n",
      "[0.0, 0.0, 0.0, 0.0, 0.0, 0.0, 0.0, 0.0, 0.0, 0.0]\n",
      "\n",
      "\n",
      "[1.8394687360988666, 1.9311064158259854, 1.862932892217469, 2.0348669967313047, 2.0, 1.9782053940413176, 1.7827869577034934, 1.9585865144470305, 2.0, 1.9997038840365373]\n",
      "\n",
      "\n",
      "[1.18232157 0.81393605 0.58543088 0.95184578 0.3836945 ]\n",
      "\n",
      "\n",
      "\n",
      "\n",
      "\n",
      "Mean of each reward vector\n",
      "0: [0.76240644 0.81085502 0.90592372 0.95310414 0.32220371]\n",
      "1: [0.2589115  0.78740758 1.08702374 0.95285534 0.36968486]\n",
      "2: [1.18232157 0.81393605 0.58543088 0.95184578 0.3836945 ]\n",
      "3: [0.86789165 0.81308705 0.82955845 0.95350066 0.37978235]\n",
      "4: [0.88980673 0.82271688 0.65159411 0.94167387 0.3916099 ]\n",
      "5: [0.8956727  0.79559201 0.85363528 0.94570512 0.30227742]\n",
      "6: [1.26378014 0.80948571 0.68478255 0.95787342 0.33950856]\n",
      "7: [0.71636705 0.78396376 0.95214984 0.9340082  0.30043963]\n",
      "8: [0.37143539 0.77246223 1.06990196 0.95104626 0.29366195]\n",
      "9: [1.1403311  0.77921783 0.78730602 0.96343234 0.30026465]\n",
      "\n",
      "\n",
      "\n",
      "\n",
      "\n",
      "\n",
      "[array([[1.24700493, 0.6       , 0.81424427, 0.95930983, 0.13333333],\n",
      "       [1.02776723, 0.42      , 0.85430573, 0.95776076, 0.66666667],\n",
      "       [0.81998695, 0.9       , 0.82325492, 0.96998855, 0.13333333],\n",
      "       ...,\n",
      "       [0.59837873, 0.84      , 0.9497544 , 0.9721218 , 0.4       ],\n",
      "       [1.25993075, 0.42      , 0.79800825, 0.97465098, 0.13333333],\n",
      "       [1.74891677, 0.72      , 0.61629391, 0.96692672, 0.13333333]]), array([[1.31315985, 0.96      , 0.54288261, 0.9511988 , 0.53333333],\n",
      "       [0.97050963, 0.84      , 0.85919469, 0.95833249, 0.26666667],\n",
      "       [0.69776529, 0.9       , 0.97797001, 0.96124422, 0.53333333],\n",
      "       ...,\n",
      "       [1.09924541, 0.78      , 0.8612336 , 0.94256682, 0.13333333],\n",
      "       [1.05774561, 0.84      , 0.84102775, 0.97279451, 0.13333333],\n",
      "       [1.0607507 , 0.96      , 0.7927012 , 0.94408757, 1.33333333]]), array([[1.01192593, 0.66      , 0.88413041, 0.97272451, 0.        ],\n",
      "       [1.07665913, 0.78      , 0.79866824, 0.97007824, 0.4       ],\n",
      "       [0.82520509, 0.48      , 0.91127063, 0.95248779, 0.26666667],\n",
      "       ...,\n",
      "       [0.86539601, 0.96      , 0.89802686, 0.96773923, 0.26666667],\n",
      "       [1.03841937, 0.42      , 0.57454337, 0.98200983, 0.66666667],\n",
      "       [1.42315442, 0.42      , 0.70233068, 0.96606614, 0.53333333]]), array([[1.28856673, 0.66      , 0.7787645 , 0.97928047, 0.13333333],\n",
      "       [0.73108342, 0.66      , 0.8695773 , 0.97022702, 0.93333333],\n",
      "       [0.75554683, 0.78      , 0.89552739, 0.96462721, 0.4       ],\n",
      "       ...,\n",
      "       [1.29948681, 0.96      , 0.78138179, 0.95769189, 0.26666667],\n",
      "       [1.34938238, 1.2       , 0.76803226, 0.96029151, 0.13333333],\n",
      "       [0.68998193, 0.96      , 0.94001869, 0.95478207, 0.26666667]]), array([[0.58744514, 0.84      , 0.96724604, 0.95889191, 0.8       ],\n",
      "       [1.08754145, 0.36      , 0.85559373, 0.96151523, 0.4       ],\n",
      "       [1.47947937, 0.72      , 0.6814879 , 0.95232803, 0.53333333],\n",
      "       ...,\n",
      "       [1.04441863, 0.9       , 0.76645632, 0.9554801 , 0.8       ],\n",
      "       [1.1734719 , 0.72      , 0.81083533, 0.96939471, 0.4       ],\n",
      "       [1.44434211, 0.6       , 0.71110346, 0.96991578, 0.26666667]]), array([[0.85001563, 0.78      , 0.88170437, 0.97727455, 0.13333333],\n",
      "       [1.21987267, 0.3       , 0.80044814, 0.98181989, 0.4       ],\n",
      "       [1.30491619, 0.9       , 0.80505565, 0.94717808, 0.26666667],\n",
      "       ...,\n",
      "       [1.49700749, 1.14      , 0.72181597, 0.95341588, 0.13333333],\n",
      "       [1.26938627, 0.42      , 0.81477026, 0.93764753, 0.26666667],\n",
      "       [0.54586166, 0.72      , 0.95340327, 0.9592426 , 0.53333333]]), array([[1.60702422, 1.08      , 0.62456784, 0.96233796, 0.        ],\n",
      "       [1.24766021, 1.02      , 0.77826626, 0.96382413, 0.26666667],\n",
      "       [0.93088068, 0.96      , 0.85049486, 0.962229  , 0.26666667],\n",
      "       ...,\n",
      "       [1.01414449, 1.02      , 0.8529408 , 0.96247156, 0.13333333],\n",
      "       [1.17972692, 1.08      , 0.78565882, 0.96522227, 0.13333333],\n",
      "       [1.78104407, 0.84      , 0.6021283 , 0.95335959, 0.26666667]]), array([[1.42713238, 1.08      , 0.65414406, 0.97762189, 0.13333333],\n",
      "       [0.86336796, 0.42      , 0.67912126, 0.96896683, 0.93333333],\n",
      "       [1.74630196, 0.54      , 0.59624038, 0.95222351, 0.26666667],\n",
      "       ...,\n",
      "       [1.36884081, 0.48      , 0.755197  , 0.96665342, 0.13333333],\n",
      "       [1.31658284, 0.36      , 0.78155972, 0.96205924, 0.4       ],\n",
      "       [1.0214926 , 0.6       , 0.74813549, 0.96354297, 0.93333333]]), array([[0.89803023, 0.48      , 0.90375924, 0.96482989, 0.4       ],\n",
      "       [1.41341768, 0.66      , 0.60991532, 0.97550803, 0.4       ],\n",
      "       [0.75161945, 0.96      , 0.89014757, 0.9612374 , 0.13333333],\n",
      "       ...,\n",
      "       [1.08734404, 1.02      , 0.84106188, 0.95715433, 0.26666667],\n",
      "       [1.40760558, 0.9       , 0.76776957, 0.94753649, 0.53333333],\n",
      "       [1.24162963, 0.66      , 0.77438474, 0.97906009, 0.        ]]), array([[1.03478321, 0.66      , 0.83097729, 0.9594144 , 0.93333333],\n",
      "       [1.16896082, 0.9       , 0.81242484, 0.9554478 , 0.13333333],\n",
      "       [1.08722292, 0.6       , 0.84405816, 0.9423068 , 0.53333333],\n",
      "       ...,\n",
      "       [0.80120974, 0.84      , 0.85421725, 0.95857977, 0.53333333],\n",
      "       [1.39176542, 0.66      , 0.77501509, 0.96059356, 0.13333333],\n",
      "       [1.45672243, 1.02      , 0.72228809, 0.95525451, 0.26666667]])]\n"
     ]
    }
   ],
   "source": [
    "rewards = [ d['rewards'] for d in data['eval'][6]]\n",
    "\n",
    "print(len(rewards[2]))\n",
    "\n",
    "print([np.min(d) for d in rewards])\n",
    "print('\\n')\n",
    "print([np.max(d) for d in rewards])\n",
    "print('\\n')\n",
    "#print([np.mean(d, axis=(0)) for d in rewards])\n",
    "print(np.mean(np.array([np.mean(d, axis=(0)) for d in rewards]), axis=0))\n",
    "\n",
    "print('\\n\\n\\n0:')\n",
    "\n",
    "rewards = [ d['rewards'] for d in data['eval'][2]]\n",
    "\n",
    "print(len(rewards[2]))\n",
    "\n",
    "print([np.min(d) for d in rewards])\n",
    "print('\\n')\n",
    "print([np.max(d) for d in rewards])\n",
    "print('\\n')\n",
    "#print([np.mean(d, axis=(0,1)) for d in rewards])\n",
    "print(np.mean(np.array([np.mean(d, axis=(0)) for d in rewards]), axis=0))\n",
    "\n",
    "print('\\n\\n\\n\\n\\nMean of each reward vector')\n",
    "\n",
    "for i, data_env in enumerate(data['eval']):\n",
    "    rewards = [ d['rewards'] for d in data_env]\n",
    "    print(str(i)+': '+ str(np.mean(np.array([np.mean(d, axis=(0)) for d in rewards]), axis=0)))\n",
    "\n",
    "print('\\n\\n\\n\\n\\n')\n",
    "    \n",
    "print(rewards)"
   ]
  },
  {
   "cell_type": "code",
   "execution_count": 4,
   "id": "1f58cce4",
   "metadata": {},
   "outputs": [
    {
     "name": "stdout",
     "output_type": "stream",
     "text": [
      "[[0.0, 0.0, 0.0, 0.0, 0.0, 0.0, 0.0, 0.0, 0.0, 0.0], [0.0, 0.0, 0.0, 0.0, 0.0, 0.0, 0.0, 0.0, 0.0, 0.0], [0.0, 0.0, 0.0, 0.0, 0.0, 0.0, 0.0, 0.0, 0.0, 0.0], [0.0, 0.0, 0.0, 0.0, 0.0, 0.0, 0.0, 0.0, 0.0, 0.0], [0.0, 0.0, 0.0, 0.0, 0.0, 0.0, 0.0, 0.0, 0.0, 0.0], [0.0, 0.0, 0.0, 0.0, 0.0, 0.0, 0.0, 0.0, 0.0, 0.0], [0.0, 0.0, 0.0, 0.0, 0.0, 0.0, 0.0, 0.0, 0.0, 0.0], [0.0, 0.0, 0.0, 0.0, 0.0, 0.0, 0.0, 0.0, 0.0, 0.0], [0.0, 0.0, 0.0, 0.0, 0.0, 0.0, 0.0, 0.0, 0.0, 0.0], [0.0, 0.0, 0.0, 0.0, 0.0, 0.0, 0.0, 0.0, 0.0, 0.0]]\n",
      "\n",
      "\n",
      "\n",
      "\n",
      "[[1.3333333333333333, 2.1333333333333333, 1.4666666666666666, 1.4666666666666666, 1.6, 1.4666666666666666, 1.4666666666666666, 1.3333333333333333, 1.4666666666666666, 2.0], [1.4666666666666666, 1.3333333333333333, 1.3333333333333333, 1.2599999999999998, 1.4666666666666666, 1.4666666666666666, 1.4666666666666666, 1.6, 1.4666666666666666, 1.4666666666666666], [1.8394687360988666, 1.9311064158259854, 1.862932892217469, 2.0348669967313047, 2.0, 1.9782053940413176, 1.7827869577034934, 1.9585865144470305, 2.0, 1.9997038840365373], [2.0, 1.4177206097316302, 1.4666666666666666, 2.0, 1.4666666666666666, 2.0, 1.4666666666666666, 2.0, 1.4666666666666666, 1.4666666666666666], [1.6106927999346135, 1.6, 1.6, 1.4666666666666666, 1.5948656209233087, 1.519340377294474, 1.7333333333333334, 1.6, 1.5063135537513106, 1.4755262269625993], [1.5090279811705924, 2.1333333333333333, 1.4870364455569836, 1.6, 1.4232636995807426, 2.1333333333333333, 1.4666666666666666, 1.4234809642711737, 1.4666666666666666, 1.4741238316698682], [2.0696493306184296, 1.980367459656966, 1.9134934816023605, 2.0, 2.0620938410783323, 1.9613892420745782, 1.9459805395856606, 1.9602286654813785, 1.9816427108970776, 1.930977537309261], [1.4666666666666666, 1.2599999999999998, 2.0, 1.4666666666666666, 1.4666666666666666, 1.3333333333333333, 1.4666666666666666, 1.3333333333333333, 1.4666666666666666, 1.2600000000000002], [1.7333333333333334, 1.7333333333333334, 1.4666666666666666, 1.3333333333333333, 1.4666666666666666, 1.4666666666666666, 1.3333333333333333, 1.3333333333333333, 1.2599999999999998, 1.2599999999999998], [1.8923301836489044, 1.883734609996445, 1.927306496570577, 1.9157110675489326, 1.8962089034824636, 1.8970429719676625, 1.834871578384454, 1.979524731526602, 2.0659624609640677, 1.9090680370692847]]\n"
     ]
    }
   ],
   "source": [
    "all_rewards = [[ d['rewards'] for d in data_ev] for data_ev in data['eval']]\n",
    "\n",
    "print([[np.min(r) for r in rew] for rew in all_rewards])\n",
    "print('\\n\\n\\n')\n",
    "print([[np.max(r) for r in rew] for rew in all_rewards])"
   ]
  },
  {
   "cell_type": "code",
   "execution_count": 5,
   "id": "97188d8b",
   "metadata": {},
   "outputs": [],
   "source": [
    "# with open('../../other_repos/ice-soil-planner/scripts/plan_saving/old_rewards_ice_soil.pickle', 'rb') as fh:\n",
    "#     data_full = pickle.load(fh)\n",
    "    \n",
    "# print(np.min(data_full['train'][1][0]['rewards']))\n",
    "# print(np.min(data['train'][0][1]['rewards']))\n",
    "\n",
    "# data_full['eval'][1] = data['eval'][0]\n",
    "# data_full['train'][1] = data['train'][0]\n",
    "\n",
    "# print(np.min(data_full['train'][1][0]['rewards']))\n",
    "# print(np.min(data['train'][0][1]['rewards']))\n",
    "\n",
    "# with open('../../other_repos/ice-soil-planner/scripts/plan_saving/new_rewards_ice_soil.pickle', 'wb') as fh:\n",
    "#     pickle.dump(data_full, fh)"
   ]
  },
  {
   "cell_type": "code",
   "execution_count": 6,
   "id": "86c66fbd",
   "metadata": {},
   "outputs": [
    {
     "data": {
      "text/plain": [
       "array([[1.02612468, 0.9       , 0.83134993, 0.96626863, 0.13333333],\n",
       "       [0.63178794, 0.96      , 0.90471422, 0.96258263, 0.26666667],\n",
       "       [1.15720622, 0.66      , 0.83906761, 0.92869137, 0.        ],\n",
       "       ...,\n",
       "       [0.79163679, 0.36      , 0.93782961, 0.95319027, 0.26666667],\n",
       "       [0.73987674, 0.9       , 0.87080469, 0.9742119 , 0.26666667],\n",
       "       [0.92341033, 0.9       , 0.88362347, 0.95741251, 0.26666667]])"
      ]
     },
     "execution_count": 6,
     "metadata": {},
     "output_type": "execute_result"
    }
   ],
   "source": [
    "data['train'][0][14]['rewards']"
   ]
  },
  {
   "cell_type": "code",
   "execution_count": 7,
   "id": "1e5af813",
   "metadata": {},
   "outputs": [],
   "source": [
    "from sklearn_extra.cluster import KMedoids\n",
    "from sklearn.decomposition import PCA\n",
    "import scipy.spatial as spa"
   ]
  },
  {
   "cell_type": "code",
   "execution_count": 12,
   "id": "dc391379",
   "metadata": {},
   "outputs": [
    {
     "name": "stdout",
     "output_type": "stream",
     "text": [
      "down_pts.shape: (50, 5)\n",
      "(531, 2)\n",
      "(50, 2)\n"
     ]
    },
    {
     "data": {
      "image/png": "[encoded data removed]",
      "text/plain": [
       "<Figure size 432x288 with 1 Axes>"
      ]
     },
     "metadata": {
      "needs_background": "light"
     },
     "output_type": "display_data"
    }
   ],
   "source": [
    "X = data['train'][0][4]['rewards']\n",
    "n_clusters = 50\n",
    "kmed = KMedoids(n_clusters=50).fit(X)\n",
    "\n",
    "cent = kmed.cluster_centers_\n",
    "\n",
    "# bounds = np.empty((0,X.shape[1]))\n",
    "\n",
    "# for i in range(n_clusters):\n",
    "#     label_mask = kmed.labels_ == i\n",
    "    \n",
    "#     X_i = X[label_mask]\n",
    "\n",
    "#     if X_i.shape[0] > X_i.shape[1]:\n",
    "#         hull = spa.ConvexHull(X_i)\n",
    "\n",
    "#         boundary_i = X_i[hull.vertices]\n",
    "#         #print(boundary_i.shape)\n",
    "\n",
    "#         bounds = np.append(bounds, boundary_i, axis=0)\n",
    "    \n",
    "# #print(bounds.shape)\n",
    "# bounds_med = KMedoids(n_clusters=n_clusters).fit(bounds).cluster_centers_\n",
    "# #bounds_med = bounds\n",
    "\n",
    "# print('bounds_med')\n",
    "# print(bounds_med.shape)\n",
    "\n",
    "\n",
    "\n",
    "#\n",
    "\n",
    "def downsample_hull(X, num_downselect):\n",
    "    hull_idxs = spa.ConvexHull(X).vertices\n",
    "\n",
    "    if len(hull_idxs) < num_downselect:\n",
    "\n",
    "        non_hull_idxs = list(set(list(range(X.shape[0]))) - set(hull_idxs))\n",
    "\n",
    "        cents_non_hull = KMedoids(n_clusters=num_downselect - len(hull_idxs)).fit(X[non_hull_idxs]).cluster_centers_\n",
    "\n",
    "\n",
    "        down_pts = np.append(X[hull_idxs], cents_non_hull, axis=0)\n",
    "    else:\n",
    "        print(len(X[hull_idxs]))\n",
    "        cents_hulls = KMedoids(n_clusters=num_downselect).fit(X[hull_idxs]).cluster_centers_\n",
    "\n",
    "        down_pts = cents_hulls\n",
    "    return down_pts\n",
    "\n",
    "def downsample_kmed_rand(X, num_downselect, kmed_pct=0.5):\n",
    "    num_kmed = int(kmed_pct * num_downselect)\n",
    "    num_rand = num_downselect - num_kmed\n",
    "    \n",
    "    rand_idxs = np.random.choice(X.shape[0], num_rand, replace=False)\n",
    "    non_rand_idxs = list(set(list(range(X.shape[0]))) - set(rand_idxs))\n",
    "    \n",
    "    cent_pts = KMedoids(n_clusters=num_kmed).fit(X[non_rand_idxs]).cluster_centers_\n",
    "\n",
    "    return np.append(cent_pts, X[rand_idxs], axis=0)\n",
    "\n",
    "down_pts = downsample_kmed_rand(X, n_clusters)\n",
    "print('down_pts.shape: ' + str(down_pts.shape))\n",
    "\n",
    "pca = PCA(n_components=2)\n",
    "pca.fit(X)\n",
    "\n",
    "Y = pca.transform(X)\n",
    "cen_Y = pca.transform(cent)\n",
    "#bound_Y = pca.transform(bounds)\n",
    "#bounds_med_Y = pca.transform(bounds_med)\n",
    "random_Y = pca.transform(X[np.random.choice(np.arange(0, X.shape[0]), 50, replace=False)])\n",
    "down_Y = pca.transform(down_pts)\n",
    "\n",
    "print(Y.shape)\n",
    "print(cen_Y.shape)\n",
    "plt.scatter(Y[:,0], Y[:,1], color='blue')\n",
    "\n",
    "#plt.scatter(bound_Y[:,0], bound_Y[:,1], color='orange')\n",
    "#plt.scatter(bounds_med_Y[:,0], bounds_med_Y[:,1], color='green')\n",
    "#plt.scatter(random_Y[:,0], random_Y[:,1], color='pink')\n",
    "plt.scatter(down_Y[:,0], down_Y[:,1], color='purple')\n",
    "#plt.scatter(cen_Y[:,0], cen_Y[:,1], color='red')\n",
    "    \n",
    "\n",
    "plt.show()"
   ]
  },
  {
   "cell_type": "code",
   "execution_count": 10,
   "id": "123561b3",
   "metadata": {},
   "outputs": [],
   "source": [
    "import matplotlib.pyplot as plt"
   ]
  },
  {
   "cell_type": "code",
   "execution_count": 158,
   "id": "df2da947",
   "metadata": {},
   "outputs": [],
   "source": [
    "# x = np.arange(0,1.0,0.01)\n",
    "# y1 = x*x\n",
    "# y2 = 20*x\n",
    "\n",
    "# ax1 = plt.gca()\n",
    "\n",
    "# ax1.plot(x, y1, color='blue')\n",
    "\n",
    "# ax2 = ax1.twinx()\n",
    "# ax2.plot(x,y2, color='red')\n",
    "# plt.show()"
   ]
  },
  {
   "cell_type": "code",
   "execution_count": 159,
   "id": "d22d7d06",
   "metadata": {},
   "outputs": [
    {
     "data": {
      "text/plain": [
       "array([452, 210, 259, 464, 118, 241, 278, 463, 461, 310])"
      ]
     },
     "execution_count": 159,
     "metadata": {},
     "output_type": "execute_result"
    }
   ],
   "source": [
    "np.random.choice(np.arange(0, X.shape[0]), 10, replace=False)"
   ]
  },
  {
   "cell_type": "code",
   "execution_count": 161,
   "id": "1653c75d",
   "metadata": {},
   "outputs": [
    {
     "name": "stdout",
     "output_type": "stream",
     "text": [
      "(531,)\n",
      "0.9999817429735551\n",
      "0.40664589199253326\n"
     ]
    }
   ],
   "source": [
    "w1 = np.array([0.5, 0.2, 0.6, 0.7, 1.0])\n",
    "w2 = np.array([0.55, 0.22, 0.63, 0.75, 1.1])\n",
    "\n",
    "s1 = (X @ w1[:, np.newaxis])[:,0]\n",
    "s2 = (X @ w2[:, np.newaxis])[:,0]\n",
    "\n",
    "sort1 = np.argsort(s1)[::-1]\n",
    "sort2 = np.argsort(s2)[::-1]\n",
    "\n",
    "print(s1.shape)\n",
    "print(np.corrcoef(np.array([s1, s2]))[0,1])\n",
    "print(np.corrcoef(np.array([sort1, sort2]))[0,1])"
   ]
  },
  {
   "cell_type": "code",
   "execution_count": null,
   "id": "078017ed",
   "metadata": {},
   "outputs": [],
   "source": []
  }
 ],
 "metadata": {
  "kernelspec": {
   "display_name": "Python 3 (ipykernel)",
   "language": "python",
   "name": "python3"
  },
  "language_info": {
   "codemirror_mode": {
    "name": "ipython",
    "version": 3
   },
   "file_extension": ".py",
   "mimetype": "text/x-python",
   "name": "python",
   "nbconvert_exporter": "python",
   "pygments_lexer": "ipython3",
   "version": "3.10.12"
  }
 },
 "nbformat": 4,
 "nbformat_minor": 5
}
