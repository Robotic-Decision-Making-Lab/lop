{
 "cells": [
  {
   "cell_type": "code",
   "execution_count": 16,
   "metadata": {},
   "outputs": [
    {
     "name": "stdout",
     "output_type": "stream",
     "text": [
      "\n"
     ]
    }
   ],
   "source": [
    "from sympy import *\n",
    "init_session(quiet=True)"
   ]
  },
  {
   "cell_type": "code",
   "execution_count": 96,
   "metadata": {},
   "outputs": [],
   "source": [
    "f, v, sig, p = symbols(\"f v sigma p\")"
   ]
  },
  {
   "cell_type": "code",
   "execution_count": 165,
   "metadata": {},
   "outputs": [
    {
     "data": {
      "image/png": "[encoded data removed]",
      "text/latex": [
       "$\\displaystyle \\frac{e^{- \\frac{f^{2}}{4 \\sigma^{2}}}}{2 \\sqrt{\\pi} \\sigma}$"
      ],
      "text/plain": [
       "   2  \n",
       " -f   \n",
       " ──── \n",
       "    2 \n",
       " 4⋅σ  \n",
       "ℯ     \n",
       "──────\n",
       "2⋅√π⋅σ"
      ]
     },
     "execution_count": 165,
     "metadata": {},
     "output_type": "execute_result"
    }
   ],
   "source": [
    "mu = (1 + erf(f/(2*sig)))/2\n",
    "\n",
    "d_mu = simplify(mu.diff(f))\n",
    "d_mu"
   ]
  },
  {
   "cell_type": "code",
   "execution_count": 166,
   "metadata": {},
   "outputs": [
    {
     "data": {
      "image/png": "[encoded data removed]",
      "text/latex": [
       "$\\displaystyle - \\frac{f e^{- \\frac{f^{2}}{4 \\sigma^{2}}}}{4 \\sqrt{\\pi} \\sigma^{3}}$"
      ],
      "text/plain": [
       "      2  \n",
       "    -f   \n",
       "    ──── \n",
       "       2 \n",
       "    4⋅σ  \n",
       "-f⋅ℯ     \n",
       "─────────\n",
       "       3 \n",
       " 4⋅√π⋅σ  "
      ]
     },
     "execution_count": 166,
     "metadata": {},
     "output_type": "execute_result"
    }
   ],
   "source": [
    "d2_mu2 = simplify(d_mu.diff(f))\n",
    "d2_mu2"
   ]
  },
  {
   "cell_type": "code",
   "execution_count": 167,
   "metadata": {},
   "outputs": [
    {
     "data": {
      "image/png": "[encoded data removed]",
      "text/latex": [
       "$\\displaystyle \\frac{0.25 \\sqrt{2} f^{2} e^{- \\frac{0.25 f^{2}}{\\sigma^{2}}}}{\\sqrt{\\pi} \\sigma^{3}}$"
      ],
      "text/plain": [
       "                   2 \n",
       "            -0.25⋅f  \n",
       "            ─────────\n",
       "                 2   \n",
       "         2      σ    \n",
       "0.25⋅√2⋅f ⋅ℯ         \n",
       "─────────────────────\n",
       "            3        \n",
       "        √π⋅σ         "
      ]
     },
     "execution_count": 167,
     "metadata": {},
     "output_type": "execute_result"
    }
   ],
   "source": [
    "pdf = (1/sqrt(2*pi))*exp((-1/2)*((f/(sqrt(2)*sig))**2))\n",
    "pdf.diff(sig)"
   ]
  },
  {
   "cell_type": "code",
   "execution_count": 80,
   "metadata": {},
   "outputs": [],
   "source": [
    "# N = Function(\"N\")(f,sig)\n",
    "# #d_mu.subs((1/sqrt(2*pi))*exp((-1/2)*((f/(sqrt(2)*sig))**2)), N)\n",
    "# d_mu.rewrite((1/sqrt(2*pi))*exp((-1/2)*((f/(sqrt(2)*sig))**2)))\n",
    "# d_mu"
   ]
  },
  {
   "cell_type": "code",
   "execution_count": 154,
   "metadata": {},
   "outputs": [],
   "source": [
    "mu = Function('mu')(f,sig)\n",
    "#print(mu)"
   ]
  },
  {
   "cell_type": "code",
   "execution_count": 168,
   "metadata": {},
   "outputs": [
    {
     "name": "stdout",
     "output_type": "stream",
     "text": [
      "log-liklihood function\n"
     ]
    },
    {
     "data": {
      "image/png": "[encoded data removed]",
      "text/latex": [
       "$\\displaystyle \\log{\\left(\\frac{p^{v \\left(\\frac{\\operatorname{erf}{\\left(\\frac{f}{2 \\sigma} \\right)}}{2} + \\frac{1}{2}\\right) - 1} \\left(1 - p\\right)^{v \\left(\\frac{1}{2} - \\frac{\\operatorname{erf}{\\left(\\frac{f}{2 \\sigma} \\right)}}{2}\\right) - 1}}{\\operatorname{B}\\left(v*(erf(f/(2*sigma))/2 + 1/2), v*(1/2 - erf(f/(2*sigma))/2)\\right)} \\right)}$"
      ],
      "text/plain": [
       "   ⎛   ⎛   ⎛ f ⎞    ⎞              ⎛       ⎛ f ⎞⎞    ⎞\n",
       "   ⎜   ⎜erf⎜───⎟    ⎟              ⎜    erf⎜───⎟⎟    ⎟\n",
       "   ⎜   ⎜   ⎝2⋅σ⎠   1⎟              ⎜1      ⎝2⋅σ⎠⎟    ⎟\n",
       "   ⎜ v⋅⎜──────── + ─⎟ - 1        v⋅⎜─ - ────────⎟ - 1⎟\n",
       "   ⎜   ⎝   2       2⎠              ⎝2      2    ⎠    ⎟\n",
       "   ⎜p                    ⋅(1 - p)                    ⎟\n",
       "log⎜─────────────────────────────────────────────────⎟\n",
       "   ⎜       ⎛  ⎛   ⎛ f ⎞    ⎞    ⎛       ⎛ f ⎞⎞⎞      ⎟\n",
       "   ⎜       ⎜  ⎜erf⎜───⎟    ⎟    ⎜    erf⎜───⎟⎟⎟      ⎟\n",
       "   ⎜       ⎜  ⎜   ⎝2⋅σ⎠   1⎟    ⎜1      ⎝2⋅σ⎠⎟⎟      ⎟\n",
       "   ⎜      Β⎜v⋅⎜──────── + ─⎟, v⋅⎜─ - ────────⎟⎟      ⎟\n",
       "   ⎝       ⎝  ⎝   2       2⎠    ⎝2      2    ⎠⎠      ⎠"
      ]
     },
     "execution_count": 168,
     "metadata": {},
     "output_type": "execute_result"
    }
   ],
   "source": [
    "aa = v*mu\n",
    "bb = v*(1-mu)\n",
    "\n",
    "log_like = log((p**(aa-1) * ((1-p)**(bb-1)) / beta(aa, bb)))\n",
    "\n",
    "print('log-liklihood function')\n",
    "log_like"
   ]
  },
  {
   "cell_type": "code",
   "execution_count": 169,
   "metadata": {},
   "outputs": [
    {
     "data": {
      "image/png": "[encoded data removed]",
      "text/latex": [
       "$\\displaystyle \\frac{v \\left(\\log{\\left(p \\right)} - \\log{\\left(1 - p \\right)} + \\operatorname{polygamma}{\\left(0,\\frac{v \\left(1 - \\operatorname{erf}{\\left(\\frac{f}{2 \\sigma} \\right)}\\right)}{2} \\right)} - \\operatorname{polygamma}{\\left(0,\\frac{v \\left(\\operatorname{erf}{\\left(\\frac{f}{2 \\sigma} \\right)} + 1\\right)}{2} \\right)}\\right) e^{- \\frac{f^{2}}{4 \\sigma^{2}}}}{2 \\sqrt{\\pi} \\sigma}$"
      ],
      "text/plain": [
       "                                                                              \n",
       "                                                                              \n",
       "  ⎛                               ⎛     ⎛       ⎛ f ⎞⎞⎞            ⎛     ⎛   ⎛\n",
       "  ⎜                               ⎜   v⋅⎜1 - erf⎜───⎟⎟⎟            ⎜   v⋅⎜erf⎜\n",
       "  ⎜                               ⎜     ⎝       ⎝2⋅σ⎠⎠⎟            ⎜     ⎝   ⎝\n",
       "v⋅⎜log(p) - log(1 - p) + polygamma⎜0, ────────────────⎟ - polygamma⎜0, ───────\n",
       "  ⎝                               ⎝          2        ⎠            ⎝          \n",
       "──────────────────────────────────────────────────────────────────────────────\n",
       "                                             2⋅√π⋅σ                           \n",
       "\n",
       "               2 \n",
       "             -f  \n",
       " f ⎞    ⎞⎞⎞  ────\n",
       "───⎟ + 1⎟⎟⎟     2\n",
       "2⋅σ⎠    ⎠⎟⎟  4⋅σ \n",
       "─────────⎟⎟⋅ℯ    \n",
       "2        ⎠⎠      \n",
       "─────────────────\n",
       "                 "
      ]
     },
     "execution_count": 169,
     "metadata": {},
     "output_type": "execute_result"
    }
   ],
   "source": [
    "\n",
    "log_like1 = simplify(log_like.diff(f))\n",
    "log_like1"
   ]
  },
  {
   "cell_type": "code",
   "execution_count": 170,
   "metadata": {},
   "outputs": [
    {
     "data": {
      "image/png": "[encoded data removed]",
      "text/latex": [
       "$\\displaystyle \\frac{v \\left(- \\pi f \\left(\\log{\\left(p \\right)} - \\log{\\left(1 - p \\right)} + \\operatorname{polygamma}{\\left(0,\\frac{v \\left(1 - \\operatorname{erf}{\\left(\\frac{f}{2 \\sigma} \\right)}\\right)}{2} \\right)} - \\operatorname{polygamma}{\\left(0,\\frac{v \\left(\\operatorname{erf}{\\left(\\frac{f}{2 \\sigma} \\right)} + 1\\right)}{2} \\right)}\\right) e^{\\frac{f^{2}}{2 \\sigma^{2}}} - \\sqrt{\\pi} \\sigma v \\left(\\operatorname{polygamma}{\\left(1,\\frac{v \\left(1 - \\operatorname{erf}{\\left(\\frac{f}{2 \\sigma} \\right)}\\right)}{2} \\right)} + \\operatorname{polygamma}{\\left(1,\\frac{v \\left(\\operatorname{erf}{\\left(\\frac{f}{2 \\sigma} \\right)} + 1\\right)}{2} \\right)}\\right) e^{\\frac{f^{2}}{4 \\sigma^{2}}}\\right) e^{- \\frac{3 f^{2}}{4 \\sigma^{2}}}}{4 \\pi^{\\frac{3}{2}} \\sigma^{3}}$"
      ],
      "text/plain": [
       "  ⎛                                                                           \n",
       "  ⎜                                                                           \n",
       "  ⎜      ⎛                               ⎛     ⎛       ⎛ f ⎞⎞⎞            ⎛   \n",
       "  ⎜      ⎜                               ⎜   v⋅⎜1 - erf⎜───⎟⎟⎟            ⎜   \n",
       "  ⎜      ⎜                               ⎜     ⎝       ⎝2⋅σ⎠⎠⎟            ⎜   \n",
       "v⋅⎜- π⋅f⋅⎜log(p) - log(1 - p) + polygamma⎜0, ────────────────⎟ - polygamma⎜0, \n",
       "  ⎝      ⎝                               ⎝          2        ⎠            ⎝   \n",
       "──────────────────────────────────────────────────────────────────────────────\n",
       "                                                                              \n",
       "                                                                              \n",
       "\n",
       "                      2                                                       \n",
       "                     f                                                        \n",
       "  ⎛   ⎛ f ⎞    ⎞⎞⎞  ────          ⎛         ⎛     ⎛       ⎛ f ⎞⎞⎞            ⎛\n",
       "v⋅⎜erf⎜───⎟ + 1⎟⎟⎟     2          ⎜         ⎜   v⋅⎜1 - erf⎜───⎟⎟⎟            ⎜\n",
       "  ⎝   ⎝2⋅σ⎠    ⎠⎟⎟  2⋅σ           ⎜         ⎜     ⎝       ⎝2⋅σ⎠⎠⎟            ⎜\n",
       "────────────────⎟⎟⋅ℯ     - √π⋅σ⋅v⋅⎜polygamma⎜1, ────────────────⎟ + polygamma⎜\n",
       "       2        ⎠⎠                ⎝         ⎝          2        ⎠            ⎝\n",
       "──────────────────────────────────────────────────────────────────────────────\n",
       "                3/2  3                                                        \n",
       "             4⋅π   ⋅σ                                                         \n",
       "\n",
       "                         2 ⎞      2 \n",
       "                        f  ⎟  -3⋅f  \n",
       "     ⎛   ⎛ f ⎞    ⎞⎞⎞  ────⎟  ──────\n",
       "   v⋅⎜erf⎜───⎟ + 1⎟⎟⎟     2⎟      2 \n",
       "     ⎝   ⎝2⋅σ⎠    ⎠⎟⎟  4⋅σ ⎟   4⋅σ  \n",
       "1, ────────────────⎟⎟⋅ℯ    ⎟⋅ℯ      \n",
       "          2        ⎠⎠      ⎠        \n",
       "────────────────────────────────────\n",
       "                                    \n",
       "                                    "
      ]
     },
     "execution_count": 170,
     "metadata": {},
     "output_type": "execute_result"
    }
   ],
   "source": [
    "log_like2 = simplify(log_like1.diff(f))\n",
    "log_like2"
   ]
  },
  {
   "cell_type": "code",
   "execution_count": 171,
   "metadata": {},
   "outputs": [
    {
     "data": {
      "image/png": "[encoded data removed]",
      "text/latex": [
       "$\\displaystyle \\frac{v \\left(- 2 \\pi f^{2} \\left(\\log{\\left(p \\right)} - \\log{\\left(1 - p \\right)} + \\operatorname{polygamma}{\\left(0,\\frac{v \\left(1 - \\operatorname{erf}{\\left(\\frac{f}{2 \\sigma} \\right)}\\right)}{2} \\right)} - \\operatorname{polygamma}{\\left(0,\\frac{v \\left(\\operatorname{erf}{\\left(\\frac{f}{2 \\sigma} \\right)} + 1\\right)}{2} \\right)}\\right) e^{\\frac{f^{2}}{2 \\sigma^{2}}} + 3 f \\left(\\pi f \\left(\\log{\\left(p \\right)} - \\log{\\left(1 - p \\right)} + \\operatorname{polygamma}{\\left(0,\\frac{v \\left(1 - \\operatorname{erf}{\\left(\\frac{f}{2 \\sigma} \\right)}\\right)}{2} \\right)} - \\operatorname{polygamma}{\\left(0,\\frac{v \\left(\\operatorname{erf}{\\left(\\frac{f}{2 \\sigma} \\right)} + 1\\right)}{2} \\right)}\\right) e^{\\frac{f^{2}}{2 \\sigma^{2}}} + \\sqrt{\\pi} \\sigma v \\left(\\operatorname{polygamma}{\\left(1,\\frac{v \\left(1 - \\operatorname{erf}{\\left(\\frac{f}{2 \\sigma} \\right)}\\right)}{2} \\right)} + \\operatorname{polygamma}{\\left(1,\\frac{v \\left(\\operatorname{erf}{\\left(\\frac{f}{2 \\sigma} \\right)} + 1\\right)}{2} \\right)}\\right) e^{\\frac{f^{2}}{4 \\sigma^{2}}}\\right) - \\sigma^{2} \\left(- v^{2} \\left(\\operatorname{polygamma}{\\left(2,\\frac{v \\left(1 - \\operatorname{erf}{\\left(\\frac{f}{2 \\sigma} \\right)}\\right)}{2} \\right)} - \\operatorname{polygamma}{\\left(2,\\frac{v \\left(\\operatorname{erf}{\\left(\\frac{f}{2 \\sigma} \\right)} + 1\\right)}{2} \\right)}\\right) + 2 \\pi \\left(\\log{\\left(p \\right)} - \\log{\\left(1 - p \\right)} + \\operatorname{polygamma}{\\left(0,\\frac{v \\left(1 - \\operatorname{erf}{\\left(\\frac{f}{2 \\sigma} \\right)}\\right)}{2} \\right)} - \\operatorname{polygamma}{\\left(0,\\frac{v \\left(\\operatorname{erf}{\\left(\\frac{f}{2 \\sigma} \\right)} + 1\\right)}{2} \\right)}\\right) e^{\\frac{f^{2}}{2 \\sigma^{2}}}\\right)\\right) e^{- \\frac{3 f^{2}}{4 \\sigma^{2}}}}{8 \\pi^{\\frac{3}{2}} \\sigma^{5}}$"
      ],
      "text/plain": [
       "  ⎛                                                                           \n",
       "  ⎜                                                                           \n",
       "  ⎜         ⎛                               ⎛     ⎛       ⎛ f ⎞⎞⎞            ⎛\n",
       "  ⎜         ⎜                               ⎜   v⋅⎜1 - erf⎜───⎟⎟⎟            ⎜\n",
       "  ⎜       2 ⎜                               ⎜     ⎝       ⎝2⋅σ⎠⎠⎟            ⎜\n",
       "v⋅⎜- 2⋅π⋅f ⋅⎜log(p) - log(1 - p) + polygamma⎜0, ────────────────⎟ - polygamma⎜\n",
       "  ⎝         ⎝                               ⎝          2        ⎠            ⎝\n",
       "──────────────────────────────────────────────────────────────────────────────\n",
       "                                                                              \n",
       "                                                                              \n",
       "\n",
       "                         2        ⎛                                           \n",
       "                        f         ⎜                                           \n",
       "     ⎛   ⎛ f ⎞    ⎞⎞⎞  ────       ⎜    ⎛                               ⎛     ⎛\n",
       "   v⋅⎜erf⎜───⎟ + 1⎟⎟⎟     2       ⎜    ⎜                               ⎜   v⋅⎜\n",
       "     ⎝   ⎝2⋅σ⎠    ⎠⎟⎟  2⋅σ        ⎜    ⎜                               ⎜     ⎝\n",
       "0, ────────────────⎟⎟⋅ℯ     + 3⋅f⋅⎜π⋅f⋅⎜log(p) - log(1 - p) + polygamma⎜0, ───\n",
       "          2        ⎠⎠             ⎝    ⎝                               ⎝      \n",
       "──────────────────────────────────────────────────────────────────────────────\n",
       "                                                                              \n",
       "                                                                              \n",
       "\n",
       "                                                    2                         \n",
       "                                                   f                          \n",
       "       ⎛ f ⎞⎞⎞            ⎛     ⎛   ⎛ f ⎞    ⎞⎞⎞  ────          ⎛         ⎛   \n",
       "1 - erf⎜───⎟⎟⎟            ⎜   v⋅⎜erf⎜───⎟ + 1⎟⎟⎟     2          ⎜         ⎜   \n",
       "       ⎝2⋅σ⎠⎠⎟            ⎜     ⎝   ⎝2⋅σ⎠    ⎠⎟⎟  2⋅σ           ⎜         ⎜   \n",
       "─────────────⎟ - polygamma⎜0, ────────────────⎟⎟⋅ℯ     + √π⋅σ⋅v⋅⎜polygamma⎜1, \n",
       "    2        ⎠            ⎝          2        ⎠⎠                ⎝         ⎝   \n",
       "──────────────────────────────────────────────────────────────────────────────\n",
       "                                                                              \n",
       "                                                                              \n",
       "\n",
       "                                                       2 ⎞      ⎛             \n",
       "                                                      f  ⎟      ⎜             \n",
       "  ⎛       ⎛ f ⎞⎞⎞            ⎛     ⎛   ⎛ f ⎞    ⎞⎞⎞  ────⎟      ⎜     ⎛       \n",
       "v⋅⎜1 - erf⎜───⎟⎟⎟            ⎜   v⋅⎜erf⎜───⎟ + 1⎟⎟⎟     2⎟      ⎜     ⎜       \n",
       "  ⎝       ⎝2⋅σ⎠⎠⎟            ⎜     ⎝   ⎝2⋅σ⎠    ⎠⎟⎟  4⋅σ ⎟    2 ⎜   2 ⎜       \n",
       "────────────────⎟ + polygamma⎜1, ────────────────⎟⎟⋅ℯ    ⎟ - σ ⋅⎜- v ⋅⎜polygam\n",
       "       2        ⎠            ⎝          2        ⎠⎠      ⎠      ⎝     ⎝       \n",
       "──────────────────────────────────────────────────────────────────────────────\n",
       "    3/2  5                                                                    \n",
       " 8⋅π   ⋅σ                                                                     \n",
       "\n",
       "                                                                              \n",
       "                                                                              \n",
       "  ⎛     ⎛       ⎛ f ⎞⎞⎞            ⎛     ⎛   ⎛ f ⎞    ⎞⎞⎞       ⎛             \n",
       "  ⎜   v⋅⎜1 - erf⎜───⎟⎟⎟            ⎜   v⋅⎜erf⎜───⎟ + 1⎟⎟⎟       ⎜             \n",
       "  ⎜     ⎝       ⎝2⋅σ⎠⎠⎟            ⎜     ⎝   ⎝2⋅σ⎠    ⎠⎟⎟       ⎜             \n",
       "ma⎜2, ────────────────⎟ - polygamma⎜2, ────────────────⎟⎟ + 2⋅π⋅⎜log(p) - log(\n",
       "  ⎝          2        ⎠            ⎝          2        ⎠⎠       ⎝             \n",
       "──────────────────────────────────────────────────────────────────────────────\n",
       "                                                                              \n",
       "                                                                              \n",
       "\n",
       "                                                                             2\n",
       "                                                                            f \n",
       "                  ⎛     ⎛       ⎛ f ⎞⎞⎞            ⎛     ⎛   ⎛ f ⎞    ⎞⎞⎞  ───\n",
       "                  ⎜   v⋅⎜1 - erf⎜───⎟⎟⎟            ⎜   v⋅⎜erf⎜───⎟ + 1⎟⎟⎟     \n",
       "                  ⎜     ⎝       ⎝2⋅σ⎠⎠⎟            ⎜     ⎝   ⎝2⋅σ⎠    ⎠⎟⎟  2⋅σ\n",
       "1 - p) + polygamma⎜0, ────────────────⎟ - polygamma⎜0, ────────────────⎟⎟⋅ℯ   \n",
       "                  ⎝          2        ⎠            ⎝          2        ⎠⎠     \n",
       "──────────────────────────────────────────────────────────────────────────────\n",
       "                                                                              \n",
       "                                                                              \n",
       "\n",
       " ⎞⎞      2 \n",
       " ⎟⎟  -3⋅f  \n",
       "─⎟⎟  ──────\n",
       "2⎟⎟      2 \n",
       " ⎟⎟   4⋅σ  \n",
       " ⎟⎟⋅ℯ      \n",
       " ⎠⎠        \n",
       "───────────\n",
       "           \n",
       "           "
      ]
     },
     "execution_count": 171,
     "metadata": {},
     "output_type": "execute_result"
    }
   ],
   "source": [
    "# stupid hard to check but matches my page 5 (now that I have term3 cubed with the normal distribution)\n",
    "log_like3 = simplify(log_like2.diff(f))\n",
    "log_like3"
   ]
  },
  {
   "cell_type": "code",
   "execution_count": 172,
   "metadata": {},
   "outputs": [
    {
     "data": {
      "image/png": "[encoded data removed]",
      "text/latex": [
       "$\\displaystyle \\frac{\\left(- 2 \\pi f \\left(\\log{\\left(p \\right)} - \\log{\\left(1 - p \\right)} + \\operatorname{polygamma}{\\left(0,\\frac{v \\left(1 - \\operatorname{erf}{\\left(\\frac{f}{2 \\sigma} \\right)}\\right)}{2} \\right)} - \\operatorname{polygamma}{\\left(0,\\frac{v \\left(\\operatorname{erf}{\\left(\\frac{f}{2 \\sigma} \\right)} + 1\\right)}{2} \\right)}\\right) e^{\\frac{f^{2}}{2 \\sigma^{2}}} - 2 \\sqrt{\\pi} \\sigma v \\left(\\operatorname{polygamma}{\\left(1,\\frac{v \\left(1 - \\operatorname{erf}{\\left(\\frac{f}{2 \\sigma} \\right)}\\right)}{2} \\right)} + \\operatorname{polygamma}{\\left(1,\\frac{v \\left(\\operatorname{erf}{\\left(\\frac{f}{2 \\sigma} \\right)} + 1\\right)}{2} \\right)}\\right) e^{\\frac{f^{2}}{4 \\sigma^{2}}} - v \\left(- \\pi f \\left(\\left(\\operatorname{erf}{\\left(\\frac{f}{2 \\sigma} \\right)} - 1\\right) \\operatorname{polygamma}{\\left(1,\\frac{v \\left(1 - \\operatorname{erf}{\\left(\\frac{f}{2 \\sigma} \\right)}\\right)}{2} \\right)} + \\left(\\operatorname{erf}{\\left(\\frac{f}{2 \\sigma} \\right)} + 1\\right) \\operatorname{polygamma}{\\left(1,\\frac{v \\left(\\operatorname{erf}{\\left(\\frac{f}{2 \\sigma} \\right)} + 1\\right)}{2} \\right)}\\right) e^{\\frac{f^{2}}{2 \\sigma^{2}}} - \\sqrt{\\pi} \\sigma v \\left(\\left(\\operatorname{erf}{\\left(\\frac{f}{2 \\sigma} \\right)} - 1\\right) \\operatorname{polygamma}{\\left(2,\\frac{v \\left(1 - \\operatorname{erf}{\\left(\\frac{f}{2 \\sigma} \\right)}\\right)}{2} \\right)} - \\left(\\operatorname{erf}{\\left(\\frac{f}{2 \\sigma} \\right)} + 1\\right) \\operatorname{polygamma}{\\left(2,\\frac{v \\left(\\operatorname{erf}{\\left(\\frac{f}{2 \\sigma} \\right)} + 1\\right)}{2} \\right)}\\right) e^{\\frac{f^{2}}{4 \\sigma^{2}}} + 2 \\sqrt{\\pi} \\sigma \\left(\\operatorname{polygamma}{\\left(1,\\frac{v \\left(1 - \\operatorname{erf}{\\left(\\frac{f}{2 \\sigma} \\right)}\\right)}{2} \\right)} + \\operatorname{polygamma}{\\left(1,\\frac{v \\left(\\operatorname{erf}{\\left(\\frac{f}{2 \\sigma} \\right)} + 1\\right)}{2} \\right)}\\right) e^{\\frac{f^{2}}{4 \\sigma^{2}}}\\right)\\right) e^{- \\frac{3 f^{2}}{4 \\sigma^{2}}}}{8 \\pi^{\\frac{3}{2}} \\sigma^{3}}$"
      ],
      "text/plain": [
       "⎛                                                                             \n",
       "⎜                                                                             \n",
       "⎜        ⎛                               ⎛     ⎛       ⎛ f ⎞⎞⎞            ⎛   \n",
       "⎜        ⎜                               ⎜   v⋅⎜1 - erf⎜───⎟⎟⎟            ⎜   \n",
       "⎜        ⎜                               ⎜     ⎝       ⎝2⋅σ⎠⎠⎟            ⎜   \n",
       "⎜- 2⋅π⋅f⋅⎜log(p) - log(1 - p) + polygamma⎜0, ────────────────⎟ - polygamma⎜0, \n",
       "⎝        ⎝                               ⎝          2        ⎠            ⎝   \n",
       "──────────────────────────────────────────────────────────────────────────────\n",
       "                                                                              \n",
       "                                                                              \n",
       "\n",
       "                      2                                                       \n",
       "                     f                                                        \n",
       "  ⎛   ⎛ f ⎞    ⎞⎞⎞  ────            ⎛         ⎛     ⎛       ⎛ f ⎞⎞⎞           \n",
       "v⋅⎜erf⎜───⎟ + 1⎟⎟⎟     2            ⎜         ⎜   v⋅⎜1 - erf⎜───⎟⎟⎟           \n",
       "  ⎝   ⎝2⋅σ⎠    ⎠⎟⎟  2⋅σ             ⎜         ⎜     ⎝       ⎝2⋅σ⎠⎠⎟           \n",
       "────────────────⎟⎟⋅ℯ     - 2⋅√π⋅σ⋅v⋅⎜polygamma⎜1, ────────────────⎟ + polygamm\n",
       "       2        ⎠⎠                  ⎝         ⎝          2        ⎠           \n",
       "──────────────────────────────────────────────────────────────────────────────\n",
       "                                                                              \n",
       "                                                                              \n",
       "\n",
       "                           2      ⎛                                           \n",
       "                          f       ⎜                                           \n",
       " ⎛     ⎛   ⎛ f ⎞    ⎞⎞⎞  ────     ⎜      ⎛                        ⎛     ⎛     \n",
       " ⎜   v⋅⎜erf⎜───⎟ + 1⎟⎟⎟     2     ⎜      ⎜                        ⎜   v⋅⎜1 - e\n",
       " ⎜     ⎝   ⎝2⋅σ⎠    ⎠⎟⎟  4⋅σ      ⎜      ⎜⎛   ⎛ f ⎞    ⎞          ⎜     ⎝     \n",
       "a⎜1, ────────────────⎟⎟⋅ℯ     - v⋅⎜- π⋅f⋅⎜⎜erf⎜───⎟ - 1⎟⋅polygamma⎜1, ────────\n",
       " ⎝          2        ⎠⎠           ⎝      ⎝⎝   ⎝2⋅σ⎠    ⎠          ⎝          2\n",
       "──────────────────────────────────────────────────────────────────────────────\n",
       "                                                                              \n",
       "                                                                              \n",
       "\n",
       "                                                              2               \n",
       "                                                             f                \n",
       "  ⎛ f ⎞⎞⎞                           ⎛     ⎛   ⎛ f ⎞    ⎞⎞⎞  ────          ⎛   \n",
       "rf⎜───⎟⎟⎟                           ⎜   v⋅⎜erf⎜───⎟ + 1⎟⎟⎟     2          ⎜   \n",
       "  ⎝2⋅σ⎠⎠⎟   ⎛   ⎛ f ⎞    ⎞          ⎜     ⎝   ⎝2⋅σ⎠    ⎠⎟⎟  2⋅σ           ⎜⎛  \n",
       "────────⎟ + ⎜erf⎜───⎟ + 1⎟⋅polygamma⎜1, ────────────────⎟⎟⋅ℯ     - √π⋅σ⋅v⋅⎜⎜er\n",
       "        ⎠   ⎝   ⎝2⋅σ⎠    ⎠          ⎝          2        ⎠⎠                ⎝⎝  \n",
       "──────────────────────────────────────────────────────────────────────────────\n",
       "              3/2  3                                                          \n",
       "           8⋅π   ⋅σ                                                           \n",
       "\n",
       "                                                                              \n",
       "                                                                              \n",
       "                     ⎛     ⎛       ⎛ f ⎞⎞⎞                           ⎛     ⎛  \n",
       "                     ⎜   v⋅⎜1 - erf⎜───⎟⎟⎟                           ⎜   v⋅⎜er\n",
       " ⎛ f ⎞    ⎞          ⎜     ⎝       ⎝2⋅σ⎠⎠⎟   ⎛   ⎛ f ⎞    ⎞          ⎜     ⎝  \n",
       "f⎜───⎟ - 1⎟⋅polygamma⎜2, ────────────────⎟ - ⎜erf⎜───⎟ + 1⎟⋅polygamma⎜2, ─────\n",
       " ⎝2⋅σ⎠    ⎠          ⎝          2        ⎠   ⎝   ⎝2⋅σ⎠    ⎠          ⎝        \n",
       "──────────────────────────────────────────────────────────────────────────────\n",
       "                                                                              \n",
       "                                                                              \n",
       "\n",
       "                 2                                                            \n",
       "                f                                                             \n",
       " ⎛ f ⎞    ⎞⎞⎞  ────          ⎛         ⎛     ⎛       ⎛ f ⎞⎞⎞            ⎛     \n",
       "f⎜───⎟ + 1⎟⎟⎟     2          ⎜         ⎜   v⋅⎜1 - erf⎜───⎟⎟⎟            ⎜   v⋅\n",
       " ⎝2⋅σ⎠    ⎠⎟⎟  4⋅σ           ⎜         ⎜     ⎝       ⎝2⋅σ⎠⎠⎟            ⎜     \n",
       "───────────⎟⎟⋅ℯ     + 2⋅√π⋅σ⋅⎜polygamma⎜1, ────────────────⎟ + polygamma⎜1, ──\n",
       "  2        ⎠⎠                ⎝         ⎝          2        ⎠            ⎝     \n",
       "──────────────────────────────────────────────────────────────────────────────\n",
       "                                                                              \n",
       "                                                                              \n",
       "\n",
       "                    2 ⎞⎞      2 \n",
       "                   f  ⎟⎟  -3⋅f  \n",
       "⎛   ⎛ f ⎞    ⎞⎞⎞  ────⎟⎟  ──────\n",
       "⎜erf⎜───⎟ + 1⎟⎟⎟     2⎟⎟      2 \n",
       "⎝   ⎝2⋅σ⎠    ⎠⎟⎟  4⋅σ ⎟⎟   4⋅σ  \n",
       "──────────────⎟⎟⋅ℯ    ⎟⎟⋅ℯ      \n",
       "     2        ⎠⎠      ⎠⎠        \n",
       "────────────────────────────────\n",
       "                                \n",
       "                                "
      ]
     },
     "execution_count": 172,
     "metadata": {},
     "output_type": "execute_result"
    }
   ],
   "source": [
    "# matches my page 10, just a little awkward to check.\n",
    "dW_dv = simplify(log_like2.diff(v))\n",
    "dW_dv"
   ]
  },
  {
   "cell_type": "code",
   "execution_count": 173,
   "metadata": {},
   "outputs": [
    {
     "data": {
      "image/png": "[encoded data removed]",
      "text/latex": [
       "$\\displaystyle - \\frac{f e^{- \\frac{f^{2}}{4 \\sigma^{2}}}}{4 \\sqrt{\\pi} \\sigma^{3}}$"
      ],
      "text/plain": [
       "      2  \n",
       "    -f   \n",
       "    ──── \n",
       "       2 \n",
       "    4⋅σ  \n",
       "-f⋅ℯ     \n",
       "─────────\n",
       "       3 \n",
       " 4⋅√π⋅σ  "
      ]
     },
     "execution_count": 173,
     "metadata": {},
     "output_type": "execute_result"
    }
   ],
   "source": [
    "d2_mu2"
   ]
  },
  {
   "cell_type": "code",
   "execution_count": 174,
   "metadata": {},
   "outputs": [
    {
     "data": {
      "image/png": "[encoded data removed]",
      "text/latex": [
       "$\\displaystyle \\frac{v \\left(2 \\pi f^{3} \\left(\\log{\\left(p \\right)} - \\log{\\left(1 - p \\right)} + \\operatorname{polygamma}{\\left(0,\\frac{v \\left(1 - \\operatorname{erf}{\\left(\\frac{f}{2 \\sigma} \\right)}\\right)}{2} \\right)} - \\operatorname{polygamma}{\\left(0,\\frac{v \\left(\\operatorname{erf}{\\left(\\frac{f}{2 \\sigma} \\right)} + 1\\right)}{2} \\right)}\\right) e^{\\frac{f^{2}}{2 \\sigma^{2}}} - 3 f^{2} \\left(\\pi f \\left(\\log{\\left(p \\right)} - \\log{\\left(1 - p \\right)} + \\operatorname{polygamma}{\\left(0,\\frac{v \\left(1 - \\operatorname{erf}{\\left(\\frac{f}{2 \\sigma} \\right)}\\right)}{2} \\right)} - \\operatorname{polygamma}{\\left(0,\\frac{v \\left(\\operatorname{erf}{\\left(\\frac{f}{2 \\sigma} \\right)} + 1\\right)}{2} \\right)}\\right) e^{\\frac{f^{2}}{2 \\sigma^{2}}} + \\sqrt{\\pi} \\sigma v \\left(\\operatorname{polygamma}{\\left(1,\\frac{v \\left(1 - \\operatorname{erf}{\\left(\\frac{f}{2 \\sigma} \\right)}\\right)}{2} \\right)} + \\operatorname{polygamma}{\\left(1,\\frac{v \\left(\\operatorname{erf}{\\left(\\frac{f}{2 \\sigma} \\right)} + 1\\right)}{2} \\right)}\\right) e^{\\frac{f^{2}}{4 \\sigma^{2}}}\\right) - f \\sigma^{2} v^{2} \\left(\\operatorname{polygamma}{\\left(2,\\frac{v \\left(1 - \\operatorname{erf}{\\left(\\frac{f}{2 \\sigma} \\right)}\\right)}{2} \\right)} - \\operatorname{polygamma}{\\left(2,\\frac{v \\left(\\operatorname{erf}{\\left(\\frac{f}{2 \\sigma} \\right)} + 1\\right)}{2} \\right)}\\right) - 2 \\sqrt{\\pi} \\sigma^{3} v \\left(\\operatorname{polygamma}{\\left(1,\\frac{v \\left(1 - \\operatorname{erf}{\\left(\\frac{f}{2 \\sigma} \\right)}\\right)}{2} \\right)} + \\operatorname{polygamma}{\\left(1,\\frac{v \\left(\\operatorname{erf}{\\left(\\frac{f}{2 \\sigma} \\right)} + 1\\right)}{2} \\right)}\\right) e^{\\frac{f^{2}}{4 \\sigma^{2}}} + 6 \\sigma^{2} \\left(\\pi f \\left(\\log{\\left(p \\right)} - \\log{\\left(1 - p \\right)} + \\operatorname{polygamma}{\\left(0,\\frac{v \\left(1 - \\operatorname{erf}{\\left(\\frac{f}{2 \\sigma} \\right)}\\right)}{2} \\right)} - \\operatorname{polygamma}{\\left(0,\\frac{v \\left(\\operatorname{erf}{\\left(\\frac{f}{2 \\sigma} \\right)} + 1\\right)}{2} \\right)}\\right) e^{\\frac{f^{2}}{2 \\sigma^{2}}} + \\sqrt{\\pi} \\sigma v \\left(\\operatorname{polygamma}{\\left(1,\\frac{v \\left(1 - \\operatorname{erf}{\\left(\\frac{f}{2 \\sigma} \\right)}\\right)}{2} \\right)} + \\operatorname{polygamma}{\\left(1,\\frac{v \\left(\\operatorname{erf}{\\left(\\frac{f}{2 \\sigma} \\right)} + 1\\right)}{2} \\right)}\\right) e^{\\frac{f^{2}}{4 \\sigma^{2}}}\\right)\\right) e^{- \\frac{3 f^{2}}{4 \\sigma^{2}}}}{8 \\pi^{\\frac{3}{2}} \\sigma^{6}}$"
      ],
      "text/plain": [
       "  ⎛                                                                           \n",
       "  ⎜                                                                           \n",
       "  ⎜       ⎛                               ⎛     ⎛       ⎛ f ⎞⎞⎞            ⎛  \n",
       "  ⎜       ⎜                               ⎜   v⋅⎜1 - erf⎜───⎟⎟⎟            ⎜  \n",
       "  ⎜     3 ⎜                               ⎜     ⎝       ⎝2⋅σ⎠⎠⎟            ⎜  \n",
       "v⋅⎜2⋅π⋅f ⋅⎜log(p) - log(1 - p) + polygamma⎜0, ────────────────⎟ - polygamma⎜0,\n",
       "  ⎝       ⎝                               ⎝          2        ⎠            ⎝  \n",
       "──────────────────────────────────────────────────────────────────────────────\n",
       "                                                                              \n",
       "                                                                              \n",
       "\n",
       "                       2         ⎛                                            \n",
       "                      f          ⎜                                            \n",
       "   ⎛   ⎛ f ⎞    ⎞⎞⎞  ────        ⎜    ⎛                               ⎛     ⎛ \n",
       " v⋅⎜erf⎜───⎟ + 1⎟⎟⎟     2        ⎜    ⎜                               ⎜   v⋅⎜1\n",
       "   ⎝   ⎝2⋅σ⎠    ⎠⎟⎟  2⋅σ       2 ⎜    ⎜                               ⎜     ⎝ \n",
       " ────────────────⎟⎟⋅ℯ     - 3⋅f ⋅⎜π⋅f⋅⎜log(p) - log(1 - p) + polygamma⎜0, ────\n",
       "        2        ⎠⎠              ⎝    ⎝                               ⎝       \n",
       "──────────────────────────────────────────────────────────────────────────────\n",
       "                                                                              \n",
       "                                                                              \n",
       "\n",
       "                                                   2                          \n",
       "                                                  f                           \n",
       "      ⎛ f ⎞⎞⎞            ⎛     ⎛   ⎛ f ⎞    ⎞⎞⎞  ────          ⎛         ⎛    \n",
       " - erf⎜───⎟⎟⎟            ⎜   v⋅⎜erf⎜───⎟ + 1⎟⎟⎟     2          ⎜         ⎜   v\n",
       "      ⎝2⋅σ⎠⎠⎟            ⎜     ⎝   ⎝2⋅σ⎠    ⎠⎟⎟  2⋅σ           ⎜         ⎜    \n",
       "────────────⎟ - polygamma⎜0, ────────────────⎟⎟⋅ℯ     + √π⋅σ⋅v⋅⎜polygamma⎜1, ─\n",
       "   2        ⎠            ⎝          2        ⎠⎠                ⎝         ⎝    \n",
       "──────────────────────────────────────────────────────────────────────────────\n",
       "                                                                              \n",
       "                                                                              \n",
       "\n",
       "                                                      2 ⎞                     \n",
       "                                                     f  ⎟                     \n",
       " ⎛       ⎛ f ⎞⎞⎞            ⎛     ⎛   ⎛ f ⎞    ⎞⎞⎞  ────⎟           ⎛         \n",
       "⋅⎜1 - erf⎜───⎟⎟⎟            ⎜   v⋅⎜erf⎜───⎟ + 1⎟⎟⎟     2⎟           ⎜         \n",
       " ⎝       ⎝2⋅σ⎠⎠⎟            ⎜     ⎝   ⎝2⋅σ⎠    ⎠⎟⎟  4⋅σ ⎟      2  2 ⎜         \n",
       "───────────────⎟ + polygamma⎜1, ────────────────⎟⎟⋅ℯ    ⎟ - f⋅σ ⋅v ⋅⎜polygamma\n",
       "      2        ⎠            ⎝          2        ⎠⎠      ⎠           ⎝         \n",
       "──────────────────────────────────────────────────────────────────────────────\n",
       "                                                                              \n",
       "                                                                              \n",
       "\n",
       "                                                                              \n",
       "                                                                              \n",
       "⎛     ⎛       ⎛ f ⎞⎞⎞            ⎛     ⎛   ⎛ f ⎞    ⎞⎞⎞             ⎛         \n",
       "⎜   v⋅⎜1 - erf⎜───⎟⎟⎟            ⎜   v⋅⎜erf⎜───⎟ + 1⎟⎟⎟             ⎜         \n",
       "⎜     ⎝       ⎝2⋅σ⎠⎠⎟            ⎜     ⎝   ⎝2⋅σ⎠    ⎠⎟⎟         3   ⎜         \n",
       "⎜2, ────────────────⎟ - polygamma⎜2, ────────────────⎟⎟ - 2⋅√π⋅σ ⋅v⋅⎜polygamma\n",
       "⎝          2        ⎠            ⎝          2        ⎠⎠             ⎝         \n",
       "──────────────────────────────────────────────────────────────────────────────\n",
       "          3/2  6                                                              \n",
       "       8⋅π   ⋅σ                                                               \n",
       "\n",
       "                                                           2         ⎛        \n",
       "                                                          f          ⎜        \n",
       "⎛     ⎛       ⎛ f ⎞⎞⎞            ⎛     ⎛   ⎛ f ⎞    ⎞⎞⎞  ────        ⎜    ⎛   \n",
       "⎜   v⋅⎜1 - erf⎜───⎟⎟⎟            ⎜   v⋅⎜erf⎜───⎟ + 1⎟⎟⎟     2        ⎜    ⎜   \n",
       "⎜     ⎝       ⎝2⋅σ⎠⎠⎟            ⎜     ⎝   ⎝2⋅σ⎠    ⎠⎟⎟  4⋅σ       2 ⎜    ⎜   \n",
       "⎜1, ────────────────⎟ + polygamma⎜1, ────────────────⎟⎟⋅ℯ     + 6⋅σ ⋅⎜π⋅f⋅⎜log\n",
       "⎝          2        ⎠            ⎝          2        ⎠⎠              ⎝    ⎝   \n",
       "──────────────────────────────────────────────────────────────────────────────\n",
       "                                                                              \n",
       "                                                                              \n",
       "\n",
       "                                                                              \n",
       "                                                                              \n",
       "                            ⎛     ⎛       ⎛ f ⎞⎞⎞            ⎛     ⎛   ⎛ f ⎞  \n",
       "                            ⎜   v⋅⎜1 - erf⎜───⎟⎟⎟            ⎜   v⋅⎜erf⎜───⎟ +\n",
       "                            ⎜     ⎝       ⎝2⋅σ⎠⎠⎟            ⎜     ⎝   ⎝2⋅σ⎠  \n",
       "(p) - log(1 - p) + polygamma⎜0, ────────────────⎟ - polygamma⎜0, ─────────────\n",
       "                            ⎝          2        ⎠            ⎝          2     \n",
       "──────────────────────────────────────────────────────────────────────────────\n",
       "                                                                              \n",
       "                                                                              \n",
       "\n",
       "         2                                                                    \n",
       "        f                                                                     \n",
       "  ⎞⎞⎞  ────          ⎛         ⎛     ⎛       ⎛ f ⎞⎞⎞            ⎛     ⎛   ⎛ f \n",
       " 1⎟⎟⎟     2          ⎜         ⎜   v⋅⎜1 - erf⎜───⎟⎟⎟            ⎜   v⋅⎜erf⎜───\n",
       "  ⎠⎟⎟  2⋅σ           ⎜         ⎜     ⎝       ⎝2⋅σ⎠⎠⎟            ⎜     ⎝   ⎝2⋅σ\n",
       "───⎟⎟⋅ℯ     + √π⋅σ⋅v⋅⎜polygamma⎜1, ────────────────⎟ + polygamma⎜1, ──────────\n",
       "   ⎠⎠                ⎝         ⎝          2        ⎠            ⎝          2  \n",
       "──────────────────────────────────────────────────────────────────────────────\n",
       "                                                                              \n",
       "                                                                              \n",
       "\n",
       "            2 ⎞⎞      2 \n",
       "           f  ⎟⎟  -3⋅f  \n",
       "⎞    ⎞⎞⎞  ────⎟⎟  ──────\n",
       "⎟ + 1⎟⎟⎟     2⎟⎟      2 \n",
       "⎠    ⎠⎟⎟  4⋅σ ⎟⎟   4⋅σ  \n",
       "──────⎟⎟⋅ℯ    ⎟⎟⋅ℯ      \n",
       "      ⎠⎠      ⎠⎠        \n",
       "────────────────────────\n",
       "                        \n",
       "                        "
      ]
     },
     "execution_count": 174,
     "metadata": {},
     "output_type": "execute_result"
    }
   ],
   "source": [
    "# Looks correct to the equations shown on page 9 of my hand calculations\n",
    "dW_dsigma = simplify(log_like2.diff(sig))\n",
    "dW_dsigma"
   ]
  },
  {
   "cell_type": "code",
   "execution_count": 175,
   "metadata": {},
   "outputs": [
    {
     "data": {
      "image/png": "[encoded data removed]",
      "text/latex": [
       "$\\displaystyle - \\frac{f e^{- \\frac{f^{2}}{4 \\sigma^{2}}}}{2 \\sqrt{\\pi} \\sigma^{2}}$"
      ],
      "text/plain": [
       "      2  \n",
       "    -f   \n",
       "    ──── \n",
       "       2 \n",
       "    4⋅σ  \n",
       "-f⋅ℯ     \n",
       "─────────\n",
       "       2 \n",
       " 2⋅√π⋅σ  "
      ]
     },
     "execution_count": 175,
     "metadata": {},
     "output_type": "execute_result"
    }
   ],
   "source": [
    "dmu_dsigma = simplify(mu.diff(sig))\n",
    "dmu_dsigma"
   ]
  },
  {
   "cell_type": "code",
   "execution_count": 176,
   "metadata": {},
   "outputs": [
    {
     "data": {
      "image/png": "[encoded data removed]",
      "text/latex": [
       "$\\displaystyle \\frac{\\log{\\left(p \\right)} \\operatorname{erf}{\\left(\\frac{f}{2 \\sigma} \\right)}}{2} + \\frac{\\log{\\left(p \\right)}}{2} - \\frac{\\log{\\left(1 - p \\right)} \\operatorname{erf}{\\left(\\frac{f}{2 \\sigma} \\right)}}{2} + \\frac{\\log{\\left(1 - p \\right)}}{2} + \\frac{\\operatorname{erf}{\\left(\\frac{f}{2 \\sigma} \\right)} \\operatorname{polygamma}{\\left(0,\\frac{v \\left(1 - \\operatorname{erf}{\\left(\\frac{f}{2 \\sigma} \\right)}\\right)}{2} \\right)}}{2} - \\frac{\\operatorname{erf}{\\left(\\frac{f}{2 \\sigma} \\right)} \\operatorname{polygamma}{\\left(0,\\frac{v \\left(\\operatorname{erf}{\\left(\\frac{f}{2 \\sigma} \\right)} + 1\\right)}{2} \\right)}}{2} + \\operatorname{polygamma}{\\left(0,v \\right)} - \\frac{\\operatorname{polygamma}{\\left(0,\\frac{v \\left(1 - \\operatorname{erf}{\\left(\\frac{f}{2 \\sigma} \\right)}\\right)}{2} \\right)}}{2} - \\frac{\\operatorname{polygamma}{\\left(0,\\frac{v \\left(\\operatorname{erf}{\\left(\\frac{f}{2 \\sigma} \\right)} + 1\\right)}{2} \\right)}}{2}$"
      ],
      "text/plain": [
       "                                                                              \n",
       "                                                                              \n",
       "          ⎛ f ⎞                          ⎛ f ⎞                   ⎛ f ⎞        \n",
       "log(p)⋅erf⎜───⎟            log(1 - p)⋅erf⎜───⎟                erf⎜───⎟⋅polygam\n",
       "          ⎝2⋅σ⎠   log(p)                 ⎝2⋅σ⎠   log(1 - p)      ⎝2⋅σ⎠        \n",
       "─────────────── + ────── - ─────────────────── + ────────── + ────────────────\n",
       "       2            2               2                2                        \n",
       "\n",
       "  ⎛     ⎛       ⎛ f ⎞⎞⎞                     ⎛     ⎛   ⎛ f ⎞    ⎞⎞             \n",
       "  ⎜   v⋅⎜1 - erf⎜───⎟⎟⎟                     ⎜   v⋅⎜erf⎜───⎟ + 1⎟⎟             \n",
       "  ⎜     ⎝       ⎝2⋅σ⎠⎠⎟      ⎛ f ⎞          ⎜     ⎝   ⎝2⋅σ⎠    ⎠⎟             \n",
       "ma⎜0, ────────────────⎟   erf⎜───⎟⋅polygamma⎜0, ────────────────⎟             \n",
       "  ⎝          2        ⎠      ⎝2⋅σ⎠          ⎝          2        ⎠             \n",
       "─────────────────────── - ─────────────────────────────────────── + polygamma(\n",
       "   2                                         2                                \n",
       "\n",
       "                 ⎛     ⎛       ⎛ f ⎞⎞⎞            ⎛     ⎛   ⎛ f ⎞    ⎞⎞\n",
       "                 ⎜   v⋅⎜1 - erf⎜───⎟⎟⎟            ⎜   v⋅⎜erf⎜───⎟ + 1⎟⎟\n",
       "                 ⎜     ⎝       ⎝2⋅σ⎠⎠⎟            ⎜     ⎝   ⎝2⋅σ⎠    ⎠⎟\n",
       "        polygamma⎜0, ────────────────⎟   polygamma⎜0, ────────────────⎟\n",
       "                 ⎝          2        ⎠            ⎝          2        ⎠\n",
       "0, v) - ────────────────────────────── - ──────────────────────────────\n",
       "                      2                                2               "
      ]
     },
     "execution_count": 176,
     "metadata": {},
     "output_type": "execute_result"
    }
   ],
   "source": [
    "# matches page 11 of calculations\n",
    "dll_dv = simplify(log_like.diff(v))\n",
    "dll_dv"
   ]
  },
  {
   "cell_type": "code",
   "execution_count": 177,
   "metadata": {},
   "outputs": [
    {
     "data": {
      "image/png": "[encoded data removed]",
      "text/latex": [
       "$\\displaystyle \\frac{f v \\left(- \\log{\\left(p \\right)} + \\log{\\left(1 - p \\right)} - \\operatorname{polygamma}{\\left(0,\\frac{v \\left(1 - \\operatorname{erf}{\\left(\\frac{f}{2 \\sigma} \\right)}\\right)}{2} \\right)} + \\operatorname{polygamma}{\\left(0,\\frac{v \\left(\\operatorname{erf}{\\left(\\frac{f}{2 \\sigma} \\right)} + 1\\right)}{2} \\right)}\\right) e^{- \\frac{f^{2}}{4 \\sigma^{2}}}}{2 \\sqrt{\\pi} \\sigma^{2}}$"
      ],
      "text/plain": [
       "                                                                              \n",
       "                                                                              \n",
       "    ⎛                                ⎛     ⎛       ⎛ f ⎞⎞⎞            ⎛     ⎛ \n",
       "    ⎜                                ⎜   v⋅⎜1 - erf⎜───⎟⎟⎟            ⎜   v⋅⎜e\n",
       "    ⎜                                ⎜     ⎝       ⎝2⋅σ⎠⎠⎟            ⎜     ⎝ \n",
       "f⋅v⋅⎜-log(p) + log(1 - p) - polygamma⎜0, ────────────────⎟ + polygamma⎜0, ────\n",
       "    ⎝                                ⎝          2        ⎠            ⎝       \n",
       "──────────────────────────────────────────────────────────────────────────────\n",
       "                                                   2                          \n",
       "                                             2⋅√π⋅σ                           \n",
       "\n",
       "                  2 \n",
       "                -f  \n",
       "  ⎛ f ⎞    ⎞⎞⎞  ────\n",
       "rf⎜───⎟ + 1⎟⎟⎟     2\n",
       "  ⎝2⋅σ⎠    ⎠⎟⎟  4⋅σ \n",
       "────────────⎟⎟⋅ℯ    \n",
       "   2        ⎠⎠      \n",
       "────────────────────\n",
       "                    \n",
       "                    "
      ]
     },
     "execution_count": 177,
     "metadata": {},
     "output_type": "execute_result"
    }
   ],
   "source": [
    "# matches page 12 of hand derivation\n",
    "dll_dsigma = simplify(log_like.diff(sig))\n",
    "dll_dsigma"
   ]
  },
  {
   "cell_type": "code",
   "execution_count": null,
   "metadata": {},
   "outputs": [],
   "source": []
  }
 ],
 "metadata": {
  "kernelspec": {
   "display_name": "Python 3",
   "language": "python",
   "name": "python3"
  },
  "language_info": {
   "codemirror_mode": {
    "name": "ipython",
    "version": 3
   },
   "file_extension": ".py",
   "mimetype": "text/x-python",
   "name": "python",
   "nbconvert_exporter": "python",
   "pygments_lexer": "ipython3",
   "version": "3.8.10"
  }
 },
 "nbformat": 4,
 "nbformat_minor": 4
}
