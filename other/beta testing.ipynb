{
 "cells": [
  {
   "cell_type": "code",
   "execution_count": 1,
   "id": "dce5d91e",
   "metadata": {},
   "outputs": [],
   "source": [
    "import numpy as np\n",
    "import matplotlib.pyplot as plt\n",
    "from scipy.stats import beta\n",
    "import scipy.integrate as integrate\n",
    "\n",
    "import lop"
   ]
  },
  {
   "cell_type": "code",
   "execution_count": 10,
   "id": "73bfb079",
   "metadata": {},
   "outputs": [],
   "source": [
    "#x = np.arange(0.0001, 0.9999, 0.001)\n",
    "x = np.arange(0.1, 0.9, 0.001)\n",
    "\n",
    "v = 100.0\n",
    "\n",
    "mu = x\n",
    "\n",
    "aa = v*mu\n",
    "bb = v*(1-mu)\n",
    "\n",
    "\n",
    "N = 500\n",
    "\n",
    "bets = np.random.beta(aa, bb, (N,x.shape[0]))\n",
    "\n",
    "\n"
   ]
  },
  {
   "cell_type": "code",
   "execution_count": 11,
   "id": "bc35f177",
   "metadata": {},
   "outputs": [
    {
     "name": "stdout",
     "output_type": "stream",
     "text": [
      "150317358\n",
      "p_samp = 0.9406593116395494\n"
     ]
    }
   ],
   "source": [
    "counts = 0\n",
    "tots = 0\n",
    "for i in range(x.shape[0]):\n",
    "    for j in range(i+1, x.shape[0]):\n",
    "        #print('i: ' + str(i) + ' j: ' + str(j))\n",
    "        #print(bets[:,j])\n",
    "        #print(bets[:,i])\n",
    "        #print(bets[:,j] >= bets[:,i])\n",
    "        counts += np.sum(bets[:,j] >= bets[:,i])\n",
    "        tots += bets.shape[0]\n",
    "        \n",
    "print(counts)\n",
    "p_samp = counts / tots\n",
    "print('p_samp = ' + str(p_samp))"
   ]
  },
  {
   "cell_type": "code",
   "execution_count": null,
   "id": "bcc68278",
   "metadata": {},
   "outputs": [],
   "source": []
  },
  {
   "cell_type": "code",
   "execution_count": 75,
   "id": "dc80035a",
   "metadata": {},
   "outputs": [
    {
     "name": "stdout",
     "output_type": "stream",
     "text": [
      "[6.15469038 6.31140872]\n",
      "0.6554217416103242\n",
      "[[1.01       0.60653066]\n",
      " [0.60653066 1.01      ]]\n",
      "1.1421200712696815\n",
      "post pairwise = 0.7485703262396822\n",
      "post abs = 44.365387525901035\n"
     ]
    }
   ],
   "source": [
    "v = 60.0\n",
    "abs_sigma = 1.0\n",
    "pair_sigma = 1.0\n",
    "l = 1.0\n",
    "\n",
    "F = np.array([0, 0.4])\n",
    "x = np.array([0, l])\n",
    "\n",
    "f_base = 0.0\n",
    "\n",
    "\n",
    "\n",
    "abs_probit = lop.AbsBoundProbit(sigma=abs_sigma, v=v)\n",
    "ml = abs_probit.mean_link(F)\n",
    "aa, bb = abs_probit.get_alpha_beta(F)\n",
    "\n",
    "p_abs = beta.pdf(ml, aa, bb)\n",
    "print(p_abs)\n",
    "\n",
    "pref_probit = lop.PreferenceProbit(sigma=pair_sigma)\n",
    "\n",
    "p_pair = lop.std_norm_cdf((1 / pair_sigma**2)*(F[1]-F[0]))\n",
    "print(p_pair)\n",
    "\n",
    "rbf = lop.RBF_kern(1.0, l)\n",
    "cov = rbf.cov(x, x)\n",
    "print(cov)\n",
    "\n",
    "log_prior = -0.5 * np.transpose(F) @ cov @ F - 0.5*np.log(np.linalg.det(cov))\n",
    "prior = np.exp(log_prior)\n",
    "print(prior)\n",
    "\n",
    "post_pair = prior * p_pair\n",
    "post_abs = prior * p_abs[0] * p_abs[1]\n",
    "\n",
    "print('post pairwise = ' + str(post_pair))\n",
    "print('post abs = ' + str(post_abs))"
   ]
  },
  {
   "cell_type": "code",
   "execution_count": 150,
   "id": "b7c26b18",
   "metadata": {},
   "outputs": [
    {
     "data": {
      "image/png": "[encoded data removed]",
      "text/plain": [
       "<Figure size 432x288 with 1 Axes>"
      ]
     },
     "metadata": {
      "needs_background": "light"
     },
     "output_type": "display_data"
    },
    {
     "data": {
      "image/png": "[encoded data removed]",
      "text/plain": [
       "<Figure size 432x288 with 1 Axes>"
      ]
     },
     "metadata": {
      "needs_background": "light"
     },
     "output_type": "display_data"
    }
   ],
   "source": [
    "v = 60.0\n",
    "abs_sigma = 1.0\n",
    "pair_sigma = 1.0\n",
    "l = 1.0\n",
    "\n",
    "\n",
    "\n",
    "\n",
    "abs_probit = lop.AbsBoundProbit(sigma=abs_sigma, v=v)\n",
    "rbf = lop.RBF_kern(1.0, l)\n",
    "\n",
    "\n",
    "x_base = 0.0\n",
    "f_base = 0.0\n",
    "\n",
    "def abs_like(f, x_c):\n",
    "    F = np.array([f_base, f_base+f])\n",
    "    x = np.array([x_base, x_base+x_c])\n",
    "    \n",
    "    ml = abs_probit.mean_link(F)\n",
    "    aa, bb = abs_probit.get_alpha_beta(F)\n",
    "\n",
    "    p_abs = beta.pdf(np.array([0.5, 0.7]), aa, bb)\n",
    "    \n",
    "    cov = rbf.cov(x, x)\n",
    "    log_prior = -0.5 * np.transpose(F) @ cov @ F - 0.5*np.log(np.linalg.det(cov))\n",
    "    prior = np.exp(log_prior)\n",
    "    \n",
    "    return p_abs[0] * p_abs[1] * prior\n",
    "\n",
    "def pair_like(f, x_c):\n",
    "    F = np.array([f_base, f_base+f])\n",
    "    x = np.array([x_base, x_base+x_c])\n",
    "    \n",
    "    cov = rbf.cov(x, x)\n",
    "    log_prior = -0.5 * np.transpose(F) @ cov @ F - 0.5*np.log(np.linalg.det(cov))\n",
    "    prior = np.exp(log_prior)\n",
    "    \n",
    "    p_pair = lop.std_norm_cdf((1 / pair_sigma**2)*(F[1]-F[0]))\n",
    "    \n",
    "    return p_pair * prior\n",
    "\n",
    "abs_ls = []\n",
    "pair_ls = []\n",
    "fs = np.arange(-1.0, 2.0, 0.01)\n",
    "for f in fs:\n",
    "    abs_ls.append(abs_like(f,l))\n",
    "    pair_ls.append(pair_like(f,l))\n",
    "    \n",
    "plt.plot(fs, pair_ls)\n",
    "plt.ylabel('likelihood')\n",
    "plt.figure()\n",
    "plt.ylabel('likelihood')\n",
    "plt.plot(fs, abs_ls)\n",
    "\n",
    "plt.show()"
   ]
  },
  {
   "cell_type": "code",
   "execution_count": 151,
   "id": "0748bc68",
   "metadata": {},
   "outputs": [
    {
     "data": {
      "image/png": "[encoded data removed]",
      "text/plain": [
       "<Figure size 432x288 with 1 Axes>"
      ]
     },
     "metadata": {
      "needs_background": "light"
     },
     "output_type": "display_data"
    },
    {
     "data": {
      "image/png": "[encoded data removed]",
      "text/plain": [
       "<Figure size 432x288 with 1 Axes>"
      ]
     },
     "metadata": {
      "needs_background": "light"
     },
     "output_type": "display_data"
    }
   ],
   "source": [
    "abs_ls = []\n",
    "pair_ls = []\n",
    "xs = np.arange(0, 2.0, 0.1)\n",
    "f=0.7\n",
    "for x in xs:\n",
    "    abs_ls.append(abs_like(f, l*x))\n",
    "    pair_ls.append(pair_like(f,l*x))\n",
    "    \n",
    "plt.plot(xs, pair_ls)\n",
    "plt.ylabel('likelihood')\n",
    "plt.figure()\n",
    "plt.ylabel('likelihood')\n",
    "plt.plot(xs, abs_ls)\n",
    "\n",
    "plt.show()"
   ]
  },
  {
   "cell_type": "code",
   "execution_count": 157,
   "id": "a12753a4",
   "metadata": {},
   "outputs": [
    {
     "name": "stdout",
     "output_type": "stream",
     "text": [
      "0.7194853829711497\n"
     ]
    }
   ],
   "source": [
    "f = 0.5\n",
    "\n",
    "def abs_like_q(q, f, x_c):\n",
    "    F = np.array([f_base, f_base+f])\n",
    "    x = np.array([x_base, x_base+x_c])\n",
    "    \n",
    "    ml = abs_probit.mean_link(F)\n",
    "    aa, bb = abs_probit.get_alpha_beta(F)\n",
    "\n",
    "    p_abs = beta.pdf(np.array([0.5, q]), aa, bb)\n",
    "    \n",
    "    cov = rbf.cov(x, x)\n",
    "    log_prior = -0.5 * np.transpose(F) @ cov @ F - 0.5*np.log(np.linalg.det(cov))\n",
    "    prior = np.exp(log_prior)\n",
    "    \n",
    "    return p_abs[1] * prior\n",
    "\n",
    "def p_larger(f, x_c):\n",
    "    res = integrate.quad(abs_like_q, 0.5, 1.0, args=(f,x_c))\n",
    "    return res[0]\n",
    "\n",
    "res = p_larger(f, l)\n",
    "print(res)"
   ]
  },
  {
   "cell_type": "code",
   "execution_count": 164,
   "id": "8dfc88cb",
   "metadata": {},
   "outputs": [
    {
     "name": "stdout",
     "output_type": "stream",
     "text": [
      "f_pair: 0.49999999999999983\n",
      "f_abs: 0.49999999999999983\n"
     ]
    },
    {
     "data": {
      "image/png": "[encoded data removed]",
      "text/plain": [
       "<Figure size 432x288 with 1 Axes>"
      ]
     },
     "metadata": {
      "needs_background": "light"
     },
     "output_type": "display_data"
    }
   ],
   "source": [
    "v = 1.0\n",
    "abs_sigma = 0.8\n",
    "pair_sigma = 1.0\n",
    "l = 1.0\n",
    "\n",
    "\n",
    "abs_probit = lop.AbsBoundProbit(sigma=abs_sigma, v=v)\n",
    "rbf = lop.RBF_kern(1.0, l)\n",
    "\n",
    "def abs_like_q(q, f, x_c):\n",
    "    F = np.array([f_base, f_base+f])\n",
    "    x = np.array([x_base, x_base+x_c])\n",
    "    \n",
    "    ml = abs_probit.mean_link(F)\n",
    "    aa, bb = abs_probit.get_alpha_beta(F)\n",
    "\n",
    "    p_abs = beta.pdf(np.array([0.5, q]), aa, bb)\n",
    "    \n",
    "    cov = rbf.cov(x, x)\n",
    "    log_prior = -0.5 * np.transpose(F) @ cov @ F - 0.5*np.log(np.linalg.det(cov))\n",
    "    prior = np.exp(log_prior)\n",
    "    \n",
    "    return p_abs[1] * prior\n",
    "\n",
    "def p_larger(f, x_c):\n",
    "    res = integrate.quad(abs_like_q, 0.5, 1.0, args=(f,x_c))\n",
    "    return res[0]\n",
    "\n",
    "\n",
    "def pair_like(f, x_c):\n",
    "    F = np.array([f_base, f_base+f])\n",
    "    x = np.array([x_base, x_base+x_c])\n",
    "    \n",
    "    cov = rbf.cov(x, x)\n",
    "    log_prior = -0.5 * np.transpose(F) @ cov @ F - 0.5*np.log(np.linalg.det(cov))\n",
    "    prior = np.exp(log_prior)\n",
    "    \n",
    "    p_pair = lop.std_norm_cdf((1 / pair_sigma**2)*(F[1]-F[0]))\n",
    "    \n",
    "    return p_pair * prior\n",
    "\n",
    "\n",
    "\n",
    "abs_ls = []\n",
    "pair_ls = []\n",
    "fs = np.arange(-0.2, 1.0, 0.05)\n",
    "for f in fs:\n",
    "    abs_ls.append(p_larger(f,l))\n",
    "    pair_ls.append(pair_like(f,l))\n",
    "    \n",
    "f_pair = fs[np.argmax(pair_ls)]\n",
    "f_abs = fs[np.argmax(abs_ls)]\n",
    "\n",
    "print('f_pair: ' + str(f_pair))\n",
    "print('f_abs: ' + str(f_abs))\n",
    "\n",
    "plt.plot(fs, pair_ls)\n",
    "plt.ylabel('likelihood')\n",
    "plt.plot(fs, abs_ls)\n",
    "plt.legend(['pair', 'abs'])\n",
    "\n",
    "plt.show()"
   ]
  },
  {
   "cell_type": "code",
   "execution_count": null,
   "id": "975cc6ef",
   "metadata": {},
   "outputs": [],
   "source": []
  }
 ],
 "metadata": {
  "kernelspec": {
   "display_name": "Python 3 (ipykernel)",
   "language": "python",
   "name": "python3"
  },
  "language_info": {
   "codemirror_mode": {
    "name": "ipython",
    "version": 3
   },
   "file_extension": ".py",
   "mimetype": "text/x-python",
   "name": "python",
   "nbconvert_exporter": "python",
   "pygments_lexer": "ipython3",
   "version": "3.10.12"
  }
 },
 "nbformat": 4,
 "nbformat_minor": 5
}
