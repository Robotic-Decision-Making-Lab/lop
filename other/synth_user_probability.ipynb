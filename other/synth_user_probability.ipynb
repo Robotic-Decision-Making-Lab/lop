{
 "cells": [
  {
   "cell_type": "code",
   "execution_count": 30,
   "id": "06b3c31b",
   "metadata": {},
   "outputs": [],
   "source": [
    "import numpy as np\n",
    "import lop"
   ]
  },
  {
   "cell_type": "code",
   "execution_count": 125,
   "id": "88554a16",
   "metadata": {},
   "outputs": [
    {
     "data": {
      "text/plain": [
       "array([0.6087668, 0.6083559])"
      ]
     },
     "execution_count": 125,
     "metadata": {},
     "output_type": "execute_result"
    }
   ],
   "source": [
    "def sigmoid(x):\n",
    "    k = 4\n",
    "    return 1 / (1 + np.exp(-k*x))\n",
    "\n",
    "def sample(rew, sigma):\n",
    "    return rew + np.random.normal(0, sigma, size=rew.shape)\n",
    "\n",
    "def beta_sample_sigmoid(rew, v=20.0):\n",
    "    sig = sigmoid(rew)\n",
    "    aa, bb = v * sig, v * (1 - sig)\n",
    "    \n",
    "    return np.random.beta(aa, bb)\n",
    "  \n",
    "def beta_sample_ml(rew, v=20.0, sigma_abs=1.0):\n",
    "    probit = lop.AbsBoundProbit(sigma = sigma_abs, v=v, eps=1e-20)\n",
    "    \n",
    "    aa, bb = probit.get_alpha_beta(rew)\n",
    "\n",
    "    return np.random.beta(aa, bb)\n",
    "    \n",
    "def prob_sample_correct(rew, sigma, sample_f=sample):\n",
    "    num_correct = 0\n",
    "    N = 20000\n",
    "    \n",
    "    for i in range(N):\n",
    "        r_samp = sample_f(rew, sigma)\n",
    "        \n",
    "        if np.argmax(rew) == np.argmax(r_samp):\n",
    "            num_correct +=1\n",
    "    return num_correct / N\n",
    "\n",
    "beta_sample_ml(np.array([1.1, 1.2]), 3000.0, 3.0)"
   ]
  },
  {
   "cell_type": "code",
   "execution_count": 129,
   "id": "2b05d338",
   "metadata": {},
   "outputs": [
    {
     "name": "stdout",
     "output_type": "stream",
     "text": [
      "D1\n",
      "[0.19781611 0.80218389]\n",
      "0.8084\n",
      "D2\n",
      "[0.19781611 0.80218389]\n",
      "0.8299\n",
      "D3\n",
      "[2.24816770e-04 9.99775183e-01]\n",
      "1.0\n",
      "D4\n",
      "[0.46505705 0.53494295]\n",
      "0.53395\n",
      "D5\n",
      "[nan nan]\n"
     ]
    },
    {
     "ename": "ValueError",
     "evalue": "b <= 0",
     "output_type": "error",
     "traceback": [
      "\u001b[0;31m---------------------------------------------------------------------------\u001b[0m",
      "\u001b[0;31mValueError\u001b[0m                                Traceback (most recent call last)",
      "\u001b[0;32m/tmp/ipykernel_1672647/933420035.py\u001b[0m in \u001b[0;36m<module>\u001b[0;34m\u001b[0m\n\u001b[1;32m     29\u001b[0m \u001b[0mprint\u001b[0m\u001b[0;34m(\u001b[0m\u001b[0;34m'D5'\u001b[0m\u001b[0;34m)\u001b[0m\u001b[0;34m\u001b[0m\u001b[0;34m\u001b[0m\u001b[0m\n\u001b[1;32m     30\u001b[0m \u001b[0mprint\u001b[0m\u001b[0;34m(\u001b[0m\u001b[0mlop\u001b[0m\u001b[0;34m.\u001b[0m\u001b[0mp_human_choice\u001b[0m\u001b[0;34m(\u001b[0m\u001b[0md5\u001b[0m\u001b[0;34m,\u001b[0m \u001b[0mbeta\u001b[0m\u001b[0;34m)\u001b[0m\u001b[0;34m)\u001b[0m\u001b[0;34m\u001b[0m\u001b[0;34m\u001b[0m\u001b[0m\n\u001b[0;32m---> 31\u001b[0;31m \u001b[0mprint\u001b[0m\u001b[0;34m(\u001b[0m\u001b[0mprob_sample_correct\u001b[0m\u001b[0;34m(\u001b[0m\u001b[0md5\u001b[0m\u001b[0;34m,\u001b[0m \u001b[0msigma\u001b[0m\u001b[0;34m,\u001b[0m \u001b[0msample_f\u001b[0m\u001b[0;34m)\u001b[0m\u001b[0;34m)\u001b[0m\u001b[0;34m\u001b[0m\u001b[0;34m\u001b[0m\u001b[0m\n\u001b[0m",
      "\u001b[0;32m/tmp/ipykernel_1672647/1844901588.py\u001b[0m in \u001b[0;36mprob_sample_correct\u001b[0;34m(rew, sigma, sample_f)\u001b[0m\n\u001b[1;32m     24\u001b[0m \u001b[0;34m\u001b[0m\u001b[0m\n\u001b[1;32m     25\u001b[0m     \u001b[0;32mfor\u001b[0m \u001b[0mi\u001b[0m \u001b[0;32min\u001b[0m \u001b[0mrange\u001b[0m\u001b[0;34m(\u001b[0m\u001b[0mN\u001b[0m\u001b[0;34m)\u001b[0m\u001b[0;34m:\u001b[0m\u001b[0;34m\u001b[0m\u001b[0;34m\u001b[0m\u001b[0m\n\u001b[0;32m---> 26\u001b[0;31m         \u001b[0mr_samp\u001b[0m \u001b[0;34m=\u001b[0m \u001b[0msample_f\u001b[0m\u001b[0;34m(\u001b[0m\u001b[0mrew\u001b[0m\u001b[0;34m,\u001b[0m \u001b[0msigma\u001b[0m\u001b[0;34m)\u001b[0m\u001b[0;34m\u001b[0m\u001b[0;34m\u001b[0m\u001b[0m\n\u001b[0m\u001b[1;32m     27\u001b[0m \u001b[0;34m\u001b[0m\u001b[0m\n\u001b[1;32m     28\u001b[0m         \u001b[0;32mif\u001b[0m \u001b[0mnp\u001b[0m\u001b[0;34m.\u001b[0m\u001b[0margmax\u001b[0m\u001b[0;34m(\u001b[0m\u001b[0mrew\u001b[0m\u001b[0;34m)\u001b[0m \u001b[0;34m==\u001b[0m \u001b[0mnp\u001b[0m\u001b[0;34m.\u001b[0m\u001b[0margmax\u001b[0m\u001b[0;34m(\u001b[0m\u001b[0mr_samp\u001b[0m\u001b[0;34m)\u001b[0m\u001b[0;34m:\u001b[0m\u001b[0;34m\u001b[0m\u001b[0;34m\u001b[0m\u001b[0m\n",
      "\u001b[0;32m/tmp/ipykernel_1672647/1844901588.py\u001b[0m in \u001b[0;36mbeta_sample_ml\u001b[0;34m(rew, v, sigma_abs)\u001b[0m\n\u001b[1;32m     17\u001b[0m     \u001b[0maa\u001b[0m\u001b[0;34m,\u001b[0m \u001b[0mbb\u001b[0m \u001b[0;34m=\u001b[0m \u001b[0mprobit\u001b[0m\u001b[0;34m.\u001b[0m\u001b[0mget_alpha_beta\u001b[0m\u001b[0;34m(\u001b[0m\u001b[0mrew\u001b[0m\u001b[0;34m)\u001b[0m\u001b[0;34m\u001b[0m\u001b[0;34m\u001b[0m\u001b[0m\n\u001b[1;32m     18\u001b[0m \u001b[0;34m\u001b[0m\u001b[0m\n\u001b[0;32m---> 19\u001b[0;31m     \u001b[0;32mreturn\u001b[0m \u001b[0mnp\u001b[0m\u001b[0;34m.\u001b[0m\u001b[0mrandom\u001b[0m\u001b[0;34m.\u001b[0m\u001b[0mbeta\u001b[0m\u001b[0;34m(\u001b[0m\u001b[0maa\u001b[0m\u001b[0;34m,\u001b[0m \u001b[0mbb\u001b[0m\u001b[0;34m)\u001b[0m\u001b[0;34m\u001b[0m\u001b[0;34m\u001b[0m\u001b[0m\n\u001b[0m\u001b[1;32m     20\u001b[0m \u001b[0;34m\u001b[0m\u001b[0m\n\u001b[1;32m     21\u001b[0m \u001b[0;32mdef\u001b[0m \u001b[0mprob_sample_correct\u001b[0m\u001b[0;34m(\u001b[0m\u001b[0mrew\u001b[0m\u001b[0;34m,\u001b[0m \u001b[0msigma\u001b[0m\u001b[0;34m,\u001b[0m \u001b[0msample_f\u001b[0m\u001b[0;34m=\u001b[0m\u001b[0msample\u001b[0m\u001b[0;34m)\u001b[0m\u001b[0;34m:\u001b[0m\u001b[0;34m\u001b[0m\u001b[0;34m\u001b[0m\u001b[0m\n",
      "\u001b[0;32mnumpy/random/mtrand.pyx\u001b[0m in \u001b[0;36mnumpy.random.mtrand.RandomState.beta\u001b[0;34m()\u001b[0m\n",
      "\u001b[0;32m_common.pyx\u001b[0m in \u001b[0;36mnumpy.random._common.cont\u001b[0;34m()\u001b[0m\n",
      "\u001b[0;32m_common.pyx\u001b[0m in \u001b[0;36mnumpy.random._common.cont_broadcast_2\u001b[0;34m()\u001b[0m\n",
      "\u001b[0;32m_common.pyx\u001b[0m in \u001b[0;36mnumpy.random._common.check_array_constraint\u001b[0;34m()\u001b[0m\n",
      "\u001b[0;31mValueError\u001b[0m: b <= 0"
     ]
    }
   ],
   "source": [
    "d1 = np.array([1.1, 1.2])\n",
    "d2 = np.array([0.1, 0.2])\n",
    "d3 = np.array([1.1, 1.7])\n",
    "d4 = np.array([1.11, 1.12])\n",
    "d5 = np.array([100.11, 100.12])\n",
    "\n",
    "#sigma = 0.083\n",
    "sigma = v = 600.0\n",
    "beta = 14.0\n",
    "\n",
    "sample_f = beta_sample_ml\n",
    "\n",
    "print('D1')\n",
    "print(lop.p_human_choice(d1, beta))\n",
    "print(prob_sample_correct(d1, sigma, sample_f))\n",
    "\n",
    "print('D2')\n",
    "print(lop.p_human_choice(d2, beta))\n",
    "print(prob_sample_correct(d2, sigma, sample_f))\n",
    "\n",
    "print('D3')\n",
    "print(lop.p_human_choice(d3, beta))\n",
    "print(prob_sample_correct(d3, sigma, sample_f))\n",
    "\n",
    "print('D4')\n",
    "print(lop.p_human_choice(d4, beta))\n",
    "print(prob_sample_correct(d4, sigma, sample_f))\n",
    "\n",
    "print('D5')\n",
    "print(lop.p_human_choice(d5, beta))\n",
    "print(prob_sample_correct(d5, sigma, sample_f))"
   ]
  },
  {
   "cell_type": "code",
   "execution_count": null,
   "id": "5a5bccaf",
   "metadata": {},
   "outputs": [],
   "source": []
  }
 ],
 "metadata": {
  "kernelspec": {
   "display_name": "Python 3 (ipykernel)",
   "language": "python",
   "name": "python3"
  },
  "language_info": {
   "codemirror_mode": {
    "name": "ipython",
    "version": 3
   },
   "file_extension": ".py",
   "mimetype": "text/x-python",
   "name": "python",
   "nbconvert_exporter": "python",
   "pygments_lexer": "ipython3",
   "version": "3.10.12"
  }
 },
 "nbformat": 4,
 "nbformat_minor": 5
}
